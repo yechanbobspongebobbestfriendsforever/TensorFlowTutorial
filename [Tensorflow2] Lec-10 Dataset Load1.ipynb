{
 "cells": [
  {
   "cell_type": "code",
   "execution_count": 1,
   "metadata": {},
   "outputs": [],
   "source": [
    "import tensorflow as tf\n",
    "import numpy as np \n",
    "import matplotlib.pyplot as plt\n",
    "from termcolor import colored\n",
    "\n",
    "from tensorflow.keras.models import Sequential\n",
    "from tensorflow.keras.layers import Dense\n",
    "from tensorflow.keras.losses import SparseCategoricalCrossentropy\n",
    "from tensorflow.keras.optimizers import SGD\n",
    "from tensorflow.keras.metrics import SparseCategoricalAccuracy, Mean"
   ]
  },
  {
   "cell_type": "markdown",
   "metadata": {},
   "source": [
    "# Convert numpy or list int TensorFlow Data "
   ]
  },
  {
   "cell_type": "code",
   "execution_count": 24,
   "metadata": {},
   "outputs": [
    {
     "name": "stdout",
     "output_type": "stream",
     "text": [
      "(32, 1) \t (32, 1) \n",
      "\n",
      "(32, 1) \t (32, 1) \n",
      "\n",
      "(32, 1) \t (32, 1) \n",
      "\n",
      "(32, 1) \t (32, 1) \n",
      "\n",
      "(32, 1) \t (32, 1) \n",
      "\n",
      "(32, 1) \t (32, 1) \n",
      "\n",
      "(32, 1) \t (32, 1) \n",
      "\n",
      "(32, 1) \t (32, 1) \n",
      "\n",
      "(32, 1) \t (32, 1) \n",
      "\n",
      "(12, 1) \t (12, 1) \n",
      "\n"
     ]
    }
   ],
   "source": [
    "# numpy array를 TensorFlow data object로 만들기\n",
    "train_x = np.arange(300).astype(np.float32).reshape(-1,1)\n",
    "train_y = 3*train_x + 1\n",
    "\n",
    "#from_tensor_slices를 사용하면 numpy,python list에 있는 data를 바로 tensorflow의 dataset object로 만들어 낸다 \n",
    "train_ds = tf.data.Dataset.from_tensor_slices((train_x,train_y)) #x,y pair\n",
    "train_ds = train_ds.shuffle(100).batch(32) # shuffle for 100 times and make mini-batch of 32 \n",
    "\n",
    "for x,y in train_ds:\n",
    "    print(x.shape,\"\\t\",y.shape,\"\\n\")"
   ]
  },
  {
   "cell_type": "code",
   "execution_count": 29,
   "metadata": {},
   "outputs": [],
   "source": [
    "from tensorflow.keras.datasets import mnist\n",
    "#importing mnist dataset\n",
    "(train_images, train_labels),(test_images, test_labels) = mnist.load_data()"
   ]
  },
  {
   "cell_type": "code",
   "execution_count": 28,
   "metadata": {},
   "outputs": [
    {
     "name": "stdout",
     "output_type": "stream",
     "text": [
      "<class 'numpy.ndarray'>\n",
      "(60000, 28, 28)\n",
      "(60000,)\n",
      "(10000, 28, 28)\n",
      "(10000,)\n"
     ]
    }
   ],
   "source": [
    "print(type(train_images))\n",
    "print(train_images.shape)\n",
    "print(train_labels.shape)\n",
    "print(test_images.shape)\n",
    "print(test_labels.shape)"
   ]
  },
  {
   "cell_type": "code",
   "execution_count": 32,
   "metadata": {},
   "outputs": [
    {
     "name": "stdout",
     "output_type": "stream",
     "text": [
      "47040136 bytes\n",
      "44.86096954345703 MB\n"
     ]
    }
   ],
   "source": [
    "# check data size\n",
    "import sys\n",
    "\n",
    "#원하는 object를 argument로 넣어주면 byte size를 return 함\n",
    "size_in_byte = sys.getsizeof(train_images)\n",
    "print(size_in_byte,\"bytes\")\n",
    "print(size_in_byte/1024/1024,\"MB\")\n",
    "\n",
    "# 비교적 적은 양의 data를 제공해준다: data를 numpy array안에 넣어서 제공해 주는데 그 의미는\n",
    "# RAM 위에 얹어야 한다는것 --> 너무 크면 RAM위에 얹을수 없음 "
   ]
  },
  {
   "cell_type": "code",
   "execution_count": 38,
   "metadata": {},
   "outputs": [],
   "source": [
    "from tensorflow.data import Dataset\n",
    "\n",
    "train_ds = Dataset.from_tensor_slices((train_images,train_labels))\n",
    "train_ds = train_ds.shuffle(100).batch(9)\n",
    "\n",
    "test_ds = Dataset.from_tensor_slices((test_images,test_labels))\n",
    "test_ds = test_ds.batch(9)"
   ]
  },
  {
   "cell_type": "code",
   "execution_count": 40,
   "metadata": {},
   "outputs": [
    {
     "name": "stdout",
     "output_type": "stream",
     "text": [
      "(9, 28, 28)\n",
      "(9,)\n"
     ]
    }
   ],
   "source": [
    "for images, labels in train_ds:\n",
    "    print(images.shape)\n",
    "    print(labels.shape)\n",
    "    break"
   ]
  },
  {
   "cell_type": "code",
   "execution_count": 48,
   "metadata": {},
   "outputs": [
    {
     "data": {
      "image/png": "[encoded data removed]",
      "text/plain": [
       "<Figure size 720x720 with 9 Axes>"
      ]
     },
     "metadata": {
      "needs_background": "light"
     },
     "output_type": "display_data"
    }
   ],
   "source": [
    "#iterator \n",
    "train_ds_iter = iter(train_ds)\n",
    "images,labels = next(train_ds_iter)\n",
    "\n",
    "#axes 는 numpy array\n",
    "#axes.flat는 2D인 axes numpy array를 flat하게 만들어 1-D iterator 를 만들어줌 \n",
    "fig, axes = plt.subplots(3,3, figsize= (10,10))\n",
    "for ax_idx, ax in enumerate(axes.flat):\n",
    "    image = images[ax_idx,...]\n",
    "    label = labels[ax_idx]\n",
    "    \n",
    "    ax.imshow(image, \"gray\")\n",
    "    ax.set_title(label.numpy(), fontsize = 15. )"
   ]
  },
  {
   "cell_type": "code",
   "execution_count": null,
   "metadata": {},
   "outputs": [],
   "source": []
  }
 ],
 "metadata": {
  "kernelspec": {
   "display_name": "Python 3",
   "language": "python",
   "name": "python3"
  },
  "language_info": {
   "codemirror_mode": {
    "name": "ipython",
    "version": 3
   },
   "file_extension": ".py",
   "mimetype": "text/x-python",
   "name": "python",
   "nbconvert_exporter": "python",
   "pygments_lexer": "ipython3",
   "version": "3.8.5"
  }
 },
 "nbformat": 4,
 "nbformat_minor": 4
}
