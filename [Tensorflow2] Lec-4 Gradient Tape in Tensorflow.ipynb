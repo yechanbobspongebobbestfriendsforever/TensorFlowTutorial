{
 "cells": [
  {
   "cell_type": "code",
   "execution_count": 1,
   "metadata": {},
   "outputs": [],
   "source": [
    "import tensorflow as tf\n",
    "import matplotlib.pyplot as plt"
   ]
  },
  {
   "cell_type": "code",
   "execution_count": null,
   "metadata": {},
   "outputs": [],
   "source": [
    "#forward propogation 만 설치해 주면 back prop을 자동으로 이르켜 주는 GradientTape\n",
    "#forward prop을 기록해 준다 "
   ]
  },
  {
   "cell_type": "code",
   "execution_count": 15,
   "metadata": {},
   "outputs": [
    {
     "name": "stdout",
     "output_type": "stream",
     "text": [
      "[1. 2. 3.]\n",
      "[10. 20. 30.]\n",
      "[10. 40. 90.] \n",
      "\n",
      "<class 'list'>\n",
      "dt1: tf.Tensor([10. 20. 30.], shape=(3,), dtype=float32)\n",
      "dt2: tf.Tensor([1. 2. 3.], shape=(3,), dtype=float32)\n"
     ]
    }
   ],
   "source": [
    "t1 = tf.Variable([1,2,3], dtype = tf.float32)\n",
    "t2 = tf.Variable([10,20,30], dtype = tf.float32)\n",
    "\n",
    "# instantiate GradientTape class\n",
    "with tf.GradientTape() as tape:\n",
    "    t3 = t1 * t2\n",
    "\n",
    "print(t1.numpy())\n",
    "print(t2.numpy())\n",
    "print(t3.numpy(), \"\\n\")\n",
    "\n",
    "# tape에 저장되있는 forward propagation을 가지고\n",
    "# t3의 대해서 t1,t2의 편미분 -> dt3/dt1 , dt3/dt2 (dL/dW, dL/db 와 같은 개념)\n",
    "gradients = tape.gradient(t3, [t1,t2]) #(내가 원하는 target, [내가 원하는 gradient])\n",
    "print(type(gradients))\n",
    "print(\"dt1:\",gradients[0])\n",
    "print(\"dt2:\",gradients[1]) "
   ]
  },
  {
   "cell_type": "code",
   "execution_count": 16,
   "metadata": {},
   "outputs": [
    {
     "name": "stdout",
     "output_type": "stream",
     "text": [
      "[1. 2. 3.]\n",
      "[10. 20. 30.]\n",
      "[10. 40. 90.] \n",
      "\n",
      "<class 'list'>\n",
      "dt1: tf.Tensor([10. 20. 30.], shape=(3,), dtype=float32)\n",
      "dt2: tf.Tensor([2. 3. 4.], shape=(3,), dtype=float32)\n",
      "dt3: tf.Tensor([1. 1. 1.], shape=(3,), dtype=float32)\n"
     ]
    }
   ],
   "source": [
    "t1 = tf.Variable([1,2,3], dtype = tf.float32)\n",
    "t2 = tf.Variable([10,20,30], dtype = tf.float32)\n",
    "\n",
    "# instantiate GradientTape class\n",
    "with tf.GradientTape() as tape:\n",
    "    t3 = t1 * t2\n",
    "    t4 = t3 + t2\n",
    "print(t1.numpy())\n",
    "print(t2.numpy())\n",
    "print(t3.numpy(), \"\\n\")\n",
    "\n",
    "# tape에 저장되있는 forward propagation을 가지고\n",
    "# t3의 대해서 t1,t2의 편미분 -> dt3/dt1 , dt3/dt2 (dL/dW, dL/db 와 같은 개념)\n",
    "gradients = tape.gradient(t4, [t1,t2,t3]) #(내가 원하는 target, [내가 원하는 gradient])\n",
    "print(type(gradients))\n",
    "print(\"dt1:\",gradients[0])\n",
    "print(\"dt2:\",gradients[1]) \n",
    "print(\"dt3:\",gradients[2]) "
   ]
  },
  {
   "cell_type": "code",
   "execution_count": 17,
   "metadata": {},
   "outputs": [
    {
     "data": {
      "text/plain": [
       "array([ 20.,  60., 120.], dtype=float32)"
      ]
     },
     "execution_count": 17,
     "metadata": {},
     "output_type": "execute_result"
    }
   ],
   "source": [
    "t4.numpy()"
   ]
  },
  {
   "cell_type": "code",
   "execution_count": 19,
   "metadata": {},
   "outputs": [
    {
     "name": "stdout",
     "output_type": "stream",
     "text": [
      "[1. 2. 3.]\n",
      "[10. 20. 30.]\n",
      "[10. 40. 90.] \n",
      "\n",
      "<class 'list'>\n",
      "dt1: None\n",
      "dt2: tf.Tensor([1. 2. 3.], shape=(3,), dtype=float32)\n"
     ]
    }
   ],
   "source": [
    "t1 = tf.constant([1,2,3], dtype = tf.float32) #constant 이기에 back prop이 일어날 필요가 X\n",
    "t2 = tf.Variable([10,20,30], dtype = tf.float32)\n",
    "\n",
    "with tf.GradientTape() as tape:\n",
    "    t3 = t1 * t2\n",
    "print(t1.numpy())\n",
    "print(t2.numpy())\n",
    "print(t3.numpy(), \"\\n\")\n",
    "\n",
    "\n",
    "gradients = tape.gradient(t3, [t1,t2]) #(내가 원하는 target, [내가 원하는 gradient])\n",
    "print(type(gradients))\n",
    "print(\"dt1:\",gradients[0])# t1에 대한 dt1은 None\n",
    "print(\"dt2:\",gradients[1]) \n"
   ]
  },
  {
   "cell_type": "code",
   "execution_count": 48,
   "metadata": {},
   "outputs": [
    {
     "name": "stdout",
     "output_type": "stream",
     "text": [
      "<dtype: 'float32'>\n",
      "<dtype: 'float32'>\n"
     ]
    }
   ],
   "source": [
    "#linear regression\n",
    "\n",
    "x_data = tf.random.normal(shape = (1000,), dtype = tf.float32)\n",
    "y_data = 3 * x_data + 1\n",
    "\n",
    "print(x_data.dtype)\n",
    "print(y_data.dtype)"
   ]
  },
  {
   "cell_type": "code",
   "execution_count": 49,
   "metadata": {
    "scrolled": false
   },
   "outputs": [],
   "source": [
    "#Single variable linear regression\n",
    "w = tf.Variable(-1, dtype = tf.float32)\n",
    "b = tf.Variable(-1, dtype = tf.float32)\n",
    "LR = 0.01\n",
    "\n",
    "#log\n",
    "w_trace, b_trace = [],[]\n",
    "\n",
    "#하나씩 돌면서\n",
    "for x,y in zip(x_data,y_data):\n",
    "    #Gradient tape을 만들고 기록한다\n",
    "    with tf.GradientTape() as tape:    \n",
    "        \n",
    "        # y_hat = wx + b or xw + b\n",
    "        prediction = w*x + b\n",
    "        \n",
    "        #mean square error\n",
    "        loss = (prediction-y)**2\n",
    "        \n",
    "    # 기록된 gradients를 이용해 update\n",
    "    gradients = tape.gradient(loss, [w, b]) #loss에 대해서 w와 b의 gradient를 받는다\n",
    "    \n",
    "    #SGD\n",
    "    w_trace.append(w.numpy())\n",
    "    b_trace.append(b.numpy())\n",
    "    w = tf.Variable(w - LR*gradients[0])# 괄호 안은 constant tensor때문에 \n",
    "    b = tf.Variable(b - LR*gradients[1])\n",
    "        "
   ]
  },
  {
   "cell_type": "code",
   "execution_count": 52,
   "metadata": {},
   "outputs": [
    {
     "data": {
      "image/png": "[encoded data removed]",
      "text/plain": [
       "<Figure size 1440x720 with 1 Axes>"
      ]
     },
     "metadata": {
      "needs_background": "light"
     },
     "output_type": "display_data"
    }
   ],
   "source": [
    "fig,ax = plt.subplots(figsize = (20,10))\n",
    "ax.plot(w_trace, label = \"weight\")\n",
    "ax.plot(b_trace, label = \"bais\")\n",
    "ax.legend()\n",
    "ax.grid()"
   ]
  },
  {
   "cell_type": "code",
   "execution_count": 34,
   "metadata": {},
   "outputs": [
    {
     "data": {
      "text/plain": [
       "tf.float32"
      ]
     },
     "execution_count": 34,
     "metadata": {},
     "output_type": "execute_result"
    }
   ],
   "source": [
    "a = w - LR*gradients[0]\n",
    "a.dtype"
   ]
  },
  {
   "cell_type": "code",
   "execution_count": null,
   "metadata": {},
   "outputs": [],
   "source": []
  },
  {
   "cell_type": "code",
   "execution_count": null,
   "metadata": {},
   "outputs": [],
   "source": []
  },
  {
   "cell_type": "code",
   "execution_count": null,
   "metadata": {},
   "outputs": [],
   "source": []
  },
  {
   "cell_type": "code",
   "execution_count": null,
   "metadata": {},
   "outputs": [],
   "source": []
  },
  {
   "cell_type": "code",
   "execution_count": null,
   "metadata": {},
   "outputs": [],
   "source": []
  },
  {
   "cell_type": "code",
   "execution_count": null,
   "metadata": {},
   "outputs": [],
   "source": []
  },
  {
   "cell_type": "code",
   "execution_count": null,
   "metadata": {},
   "outputs": [],
   "source": []
  },
  {
   "cell_type": "code",
   "execution_count": null,
   "metadata": {},
   "outputs": [],
   "source": []
  },
  {
   "cell_type": "code",
   "execution_count": null,
   "metadata": {},
   "outputs": [],
   "source": []
  },
  {
   "cell_type": "code",
   "execution_count": null,
   "metadata": {},
   "outputs": [],
   "source": []
  },
  {
   "cell_type": "code",
   "execution_count": null,
   "metadata": {},
   "outputs": [],
   "source": []
  }
 ],
 "metadata": {
  "kernelspec": {
   "display_name": "Python 3",
   "language": "python",
   "name": "python3"
  },
  "language_info": {
   "codemirror_mode": {
    "name": "ipython",
    "version": 3
   },
   "file_extension": ".py",
   "mimetype": "text/x-python",
   "name": "python",
   "nbconvert_exporter": "python",
   "pygments_lexer": "ipython3",
   "version": "3.8.5"
  }
 },
 "nbformat": 4,
 "nbformat_minor": 4
}
