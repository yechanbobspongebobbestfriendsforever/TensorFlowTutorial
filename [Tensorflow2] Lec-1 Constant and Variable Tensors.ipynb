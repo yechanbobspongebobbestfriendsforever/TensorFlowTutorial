{
 "cells": [
  {
   "cell_type": "code",
   "execution_count": 6,
   "metadata": {},
   "outputs": [],
   "source": [
    "import tensorflow as tf\n",
    "import numpy as np"
   ]
  },
  {
   "cell_type": "code",
   "execution_count": 5,
   "metadata": {},
   "outputs": [
    {
     "name": "stdout",
     "output_type": "stream",
     "text": [
      "<tf.Variable 'Variable:0' shape=(3,) dtype=int32, numpy=array([1, 2, 3], dtype=int32)>\n",
      "tf.Tensor([1 2 3], shape=(3,), dtype=int32) \n",
      "\n",
      "<class 'tensorflow.python.ops.resource_variable_ops.ResourceVariable'>\n",
      "<class 'tensorflow.python.framework.ops.EagerTensor'>\n"
     ]
    }
   ],
   "source": [
    "#anything flowing inside the tensorflow framework is tensor\n",
    "\n",
    "t1 = tf.Variable([1,2,3]) # work as parameter which can be upated\n",
    "t2 = tf.constant([1,2,3]) # dataset : constant tensor\n",
    "\n",
    "print(t1)\n",
    "print(t2,\"\\n\")\n",
    "print(type(t1)) #ResourceVariable -> mutable\n",
    "print(type(t2)) #EagerTensor -> immutable\n",
    "\n"
   ]
  },
  {
   "cell_type": "code",
   "execution_count": 10,
   "metadata": {},
   "outputs": [
    {
     "name": "stdout",
     "output_type": "stream",
     "text": [
      "<class 'list'>\n",
      "<class 'numpy.ndarray'> \n",
      "\n",
      "tf.Tensor([1 2 3], shape=(3,), dtype=int32)\n",
      "tf.Tensor([1 2 3], shape=(3,), dtype=int64) \n",
      "\n",
      "<class 'tensorflow.python.framework.ops.EagerTensor'>\n",
      "<class 'tensorflow.python.framework.ops.EagerTensor'> \n",
      "\n",
      "<tf.Variable 'Variable:0' shape=(3,) dtype=int32, numpy=array([1, 2, 3], dtype=int32)>\n",
      "<tf.Variable 'Variable:0' shape=(3,) dtype=int64, numpy=array([1, 2, 3])> \n",
      "\n",
      "<class 'tensorflow.python.ops.resource_variable_ops.ResourceVariable'>\n",
      "<class 'tensorflow.python.ops.resource_variable_ops.ResourceVariable'> \n",
      "\n"
     ]
    }
   ],
   "source": [
    "# change python list and numpy array to tensorflow tensor\n",
    "\n",
    "test_list = [1,2,3]\n",
    "test_np = np.array([1,2,3])\n",
    "\n",
    "print(type(test_list))\n",
    "print(type(test_np),\"\\n\")\n",
    "\n",
    "#----------------------------\n",
    "#tf.constant\n",
    "lst_constant = tf.constant(test_list)\n",
    "np_constant = tf.constant(test_np)\n",
    "\n",
    "print(lst_constant) #EagerTensor\n",
    "print(np_constant,\"\\n\") #EagerTensor\n",
    "\n",
    "print(type(lst_constant))\n",
    "print(type(np_constant),\"\\n\")\n",
    "\n",
    "#----------------------------\n",
    "#tf.Variable\n",
    "lst_val = tf.Variable(test_list)\n",
    "np_val = tf.Variable(test_np)\n",
    "\n",
    "print(lst_val) #ResourceVariable\n",
    "print(np_val,\"\\n\") #ResourceVariable\n",
    "\n",
    "print(type(lst_val))\n",
    "print(type(np_val),\"\\n\")\n"
   ]
  },
  {
   "cell_type": "code",
   "execution_count": 15,
   "metadata": {},
   "outputs": [
    {
     "name": "stdout",
     "output_type": "stream",
     "text": [
      "<class 'tensorflow.python.framework.ops.EagerTensor'>\n",
      "<class 'tensorflow.python.ops.resource_variable_ops.ResourceVariable'>\n"
     ]
    }
   ],
   "source": [
    "# constant tensor -(casting)-> variable tensor\n",
    "t_constant = tf.constant(test_list)\n",
    "t_Variable = tf.Variable(test_list)\n",
    "\n",
    "t1 = tf.constant(t_Variable)\n",
    "t2 = tf.Variable(t_constant)\n",
    "\n",
    "print(type(t1))\n",
    "print(type(t2))"
   ]
  },
  {
   "cell_type": "code",
   "execution_count": 17,
   "metadata": {},
   "outputs": [
    {
     "name": "stdout",
     "output_type": "stream",
     "text": [
      "<class 'tensorflow.python.framework.ops.EagerTensor'>\n",
      "<class 'tensorflow.python.framework.ops.EagerTensor'>\n",
      "<class 'tensorflow.python.framework.ops.EagerTensor'>\n"
     ]
    }
   ],
   "source": [
    "test_list1 = [10,20,30]\n",
    "test_list2 = [1,2,3]\n",
    "\n",
    "t1 = tf.Variable(test_list1)\n",
    "t2 = tf.Variable(test_list2)\n",
    "\n",
    "t3 = t1+t2\n",
    "print(type(t3))\n",
    "\n",
    "t1 = tf.constant(test_list1)\n",
    "t2 = tf.constant(test_list2)\n",
    "\n",
    "t3 = t1+t2\n",
    "print(type(t3))\n",
    "\n",
    "t1 = tf.constant(test_list1)\n",
    "t2 = tf.Variable(test_list2)\n",
    "\n",
    "t3 = t1+t2\n",
    "print(type(t3))"
   ]
  },
  {
   "cell_type": "code",
   "execution_count": null,
   "metadata": {},
   "outputs": [],
   "source": []
  },
  {
   "cell_type": "code",
   "execution_count": null,
   "metadata": {},
   "outputs": [],
   "source": []
  },
  {
   "cell_type": "code",
   "execution_count": null,
   "metadata": {},
   "outputs": [],
   "source": []
  },
  {
   "cell_type": "code",
   "execution_count": null,
   "metadata": {},
   "outputs": [],
   "source": []
  },
  {
   "cell_type": "code",
   "execution_count": null,
   "metadata": {},
   "outputs": [],
   "source": []
  },
  {
   "cell_type": "code",
   "execution_count": null,
   "metadata": {},
   "outputs": [],
   "source": []
  },
  {
   "cell_type": "code",
   "execution_count": null,
   "metadata": {},
   "outputs": [],
   "source": []
  },
  {
   "cell_type": "code",
   "execution_count": null,
   "metadata": {},
   "outputs": [],
   "source": []
  },
  {
   "cell_type": "code",
   "execution_count": null,
   "metadata": {},
   "outputs": [],
   "source": []
  },
  {
   "cell_type": "code",
   "execution_count": null,
   "metadata": {},
   "outputs": [],
   "source": []
  },
  {
   "cell_type": "code",
   "execution_count": null,
   "metadata": {},
   "outputs": [],
   "source": []
  },
  {
   "cell_type": "code",
   "execution_count": null,
   "metadata": {},
   "outputs": [],
   "source": []
  },
  {
   "cell_type": "code",
   "execution_count": null,
   "metadata": {},
   "outputs": [],
   "source": []
  },
  {
   "cell_type": "code",
   "execution_count": null,
   "metadata": {},
   "outputs": [],
   "source": []
  },
  {
   "cell_type": "code",
   "execution_count": null,
   "metadata": {},
   "outputs": [],
   "source": []
  },
  {
   "cell_type": "code",
   "execution_count": null,
   "metadata": {},
   "outputs": [],
   "source": []
  },
  {
   "cell_type": "code",
   "execution_count": null,
   "metadata": {},
   "outputs": [],
   "source": []
  },
  {
   "cell_type": "code",
   "execution_count": null,
   "metadata": {},
   "outputs": [],
   "source": []
  },
  {
   "cell_type": "code",
   "execution_count": null,
   "metadata": {},
   "outputs": [],
   "source": []
  },
  {
   "cell_type": "code",
   "execution_count": null,
   "metadata": {},
   "outputs": [],
   "source": []
  },
  {
   "cell_type": "code",
   "execution_count": null,
   "metadata": {},
   "outputs": [],
   "source": []
  }
 ],
 "metadata": {
  "kernelspec": {
   "display_name": "Python 3",
   "language": "python",
   "name": "python3"
  },
  "language_info": {
   "codemirror_mode": {
    "name": "ipython",
    "version": 3
   },
   "file_extension": ".py",
   "mimetype": "text/x-python",
   "name": "python",
   "nbconvert_exporter": "python",
   "pygments_lexer": "ipython3",
   "version": "3.8.5"
  }
 },
 "nbformat": 4,
 "nbformat_minor": 4
}
