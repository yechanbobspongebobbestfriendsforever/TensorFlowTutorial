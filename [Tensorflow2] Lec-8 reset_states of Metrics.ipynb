{
 "cells": [
  {
   "cell_type": "code",
   "execution_count": 48,
   "metadata": {},
   "outputs": [],
   "source": [
    "import tensorflow as tf\n",
    "import numpy as np \n",
    "import matplotlib.pyplot as plt\n",
    "from termcolor import colored"
   ]
  },
  {
   "cell_type": "code",
   "execution_count": 49,
   "metadata": {},
   "outputs": [],
   "source": [
    "from tensorflow.keras.models import Sequential\n",
    "from tensorflow.keras.layers import Dense\n",
    "from tensorflow.keras.losses import SparseCategoricalCrossentropy\n",
    "from tensorflow.keras.optimizers import SGD\n",
    "from tensorflow.keras.metrics import SparseCategoricalAccuracy, Mean"
   ]
  },
  {
   "cell_type": "code",
   "execution_count": 50,
   "metadata": {},
   "outputs": [
    {
     "name": "stdout",
     "output_type": "stream",
     "text": [
      "float32\n",
      "float32\n"
     ]
    },
    {
     "data": {
      "image/png": "[encoded data removed]",
      "text/plain": [
       "<Figure size 864x432 with 1 Axes>"
      ]
     },
     "metadata": {},
     "output_type": "display_data"
    }
   ],
   "source": [
    "n_train = 1000\n",
    "train_x = np.random.normal(0,1,size = (n_train,1)).astype(np.float32)\n",
    "x_train_noise = train_x + (0.2 * np.random.normal(0,1,size = (n_train,1))).astype(np.float32)\n",
    "\n",
    "#train_x_noise를 기준으로 classify한다\n",
    "train_y = (x_train_noise>=0).astype(np.float32)\n",
    "\n",
    "print(train_x.dtype)\n",
    "print(train_y.dtype)\n",
    "\n",
    "#plotting\n",
    "plt.style.use(\"seaborn\")\n",
    "fig,ax = plt.subplots(figsize = (12,6))\n",
    "ax.scatter(train_x,train_y, c = train_y, cmap = \"RdYlBu\", alpha = 0.3)\n",
    "ax.tick_params(labelsize = 20)\n"
   ]
  },
  {
   "cell_type": "code",
   "execution_count": 51,
   "metadata": {},
   "outputs": [],
   "source": [
    "#tensorflow를 위한 dataset만들기 -> for mini-batch gradient\n",
    "\n",
    "#Creates a `Dataset` whose elements are slices of the given tensors.\n",
    "train_ds = tf.data.Dataset.from_tensor_slices((train_x,train_y))\n",
    "\n",
    "#Randomly shuffles the elements of this dataset.\n",
    "train_ds = train_ds.shuffle(n_train).batch(8)"
   ]
  },
  {
   "cell_type": "markdown",
   "metadata": {},
   "source": [
    "# Without Resetting train_loss, train_acc"
   ]
  },
  {
   "cell_type": "code",
   "execution_count": 44,
   "metadata": {},
   "outputs": [
    {
     "name": "stdout",
     "output_type": "stream",
     "text": [
      "\u001b[46m\u001b[30mEPOCH1\n",
      "\u001b[0m Train loss: 0.2122\tTrain Acc:90.90% \n",
      "\n",
      "\u001b[46m\u001b[30mEPOCH2\n",
      "\u001b[0m Train loss: 0.1897\tTrain Acc:91.40% \n",
      "\n",
      "\u001b[46m\u001b[30mEPOCH3\n",
      "\u001b[0m Train loss: 0.1812\tTrain Acc:91.63% \n",
      "\n",
      "\u001b[46m\u001b[30mEPOCH4\n",
      "\u001b[0m Train loss: 0.1769\tTrain Acc:91.93% \n",
      "\n",
      "\u001b[46m\u001b[30mEPOCH5\n",
      "\u001b[0m Train loss: 0.1744\tTrain Acc:91.98% \n",
      "\n",
      "\u001b[46m\u001b[30mEPOCH6\n",
      "\u001b[0m Train loss: 0.1728\tTrain Acc:91.92% \n",
      "\n",
      "\u001b[46m\u001b[30mEPOCH7\n",
      "\u001b[0m Train loss: 0.1716\tTrain Acc:91.96% \n",
      "\n",
      "\u001b[46m\u001b[30mEPOCH8\n",
      "\u001b[0m Train loss: 0.1708\tTrain Acc:92.00% \n",
      "\n",
      "\u001b[46m\u001b[30mEPOCH9\n",
      "\u001b[0m Train loss: 0.1703\tTrain Acc:91.98% \n",
      "\n",
      "\u001b[46m\u001b[30mEPOCH10\n",
      "\u001b[0m Train loss: 0.1697\tTrain Acc:92.00% \n",
      "\n"
     ]
    }
   ],
   "source": [
    "#define model\n",
    "model = Sequential()\n",
    "model.add(Dense(units = 2, \n",
    "                activation = \"softmax\"))\n",
    "\n",
    "#loss, optimizer\n",
    "loss_object = SparseCategoricalCrossentropy()\n",
    "optimizer = SGD(learning_rate = 1)\n",
    "\n",
    "#record mean of loss and acc\n",
    "train_loss = Mean()\n",
    "train_acc = SparseCategoricalAccuracy()\n",
    "\n",
    "#constant\n",
    "EPOCHS = 10\n",
    "\n",
    "for epoch in range(EPOCHS):\n",
    "    for x,y in train_ds:\n",
    "        #make forward prop for current mini-batch\n",
    "        with tf.GradientTape() as tape:\n",
    "            predictions = model(x)\n",
    "            loss = loss_object(y,predictions)\n",
    "        \n",
    "        gradients = tape.gradient(loss, model.trainable_variables)\n",
    "        optimizer.apply_gradients(zip(gradients,model.trainable_variables))\n",
    "      \n",
    "        # to compute the mean loss/acc of the current epoch, acculate the result into train_loss/train_acc     \n",
    "        train_loss(loss)\n",
    "        train_acc(y,predictions)\n",
    "\n",
    "    template = \"Train loss: {:.4f}\\tTrain Acc:{:.2f}%\"        \n",
    "    print(colored(\"EPOCH{}\\n\".format(epoch+1), \"grey\", \"on_cyan\"), \n",
    "          template.format(train_loss.result(),train_acc.result()*100), \"\\n\")"
   ]
  },
  {
   "cell_type": "code",
   "execution_count": 40,
   "metadata": {},
   "outputs": [
    {
     "name": "stdout",
     "output_type": "stream",
     "text": [
      "tf.Tensor(1.0, shape=(), dtype=float32)\n",
      "tf.Tensor(1.5, shape=(), dtype=float32)\n",
      "tf.Tensor(2.0, shape=(), dtype=float32)\n"
     ]
    }
   ],
   "source": [
    "#하지막 치명적인 문제가 있다 -> reset을 해주지 않으면 계속 각 epoch에 대한 누적 평균을 계산함 \n",
    "\n",
    "train_loss = Mean()\n",
    "\n",
    "loss_1 = tf.constant(1)\n",
    "train_loss(loss_1)\n",
    "print(train_loss.result())\n",
    "\n",
    "loss_2 = tf.constant(2)\n",
    "train_loss(loss_2)\n",
    "print(train_loss.result())\n",
    "\n",
    "loss_3 = tf.constant(3)\n",
    "train_loss(loss_3)\n",
    "print(train_loss.result())"
   ]
  },
  {
   "cell_type": "markdown",
   "metadata": {},
   "source": [
    "# With Resets"
   ]
  },
  {
   "cell_type": "code",
   "execution_count": 72,
   "metadata": {},
   "outputs": [
    {
     "name": "stdout",
     "output_type": "stream",
     "text": [
      "\u001b[46m\u001b[30mEPOCH1\n",
      "\u001b[0m Train loss: 0.2037\tTrain Acc:91.60% \n",
      "\n",
      "\u001b[46m\u001b[30mEPOCH2\n",
      "\u001b[0m Train loss: 0.1648\tTrain Acc:92.50% \n",
      "\n",
      "\u001b[46m\u001b[30mEPOCH3\n",
      "\u001b[0m Train loss: 0.1635\tTrain Acc:92.60% \n",
      "\n",
      "\u001b[46m\u001b[30mEPOCH4\n",
      "\u001b[0m Train loss: 0.1595\tTrain Acc:92.70% \n",
      "\n",
      "\u001b[46m\u001b[30mEPOCH5\n",
      "\u001b[0m Train loss: 0.1621\tTrain Acc:92.70% \n",
      "\n",
      "\u001b[46m\u001b[30mEPOCH6\n",
      "\u001b[0m Train loss: 0.1615\tTrain Acc:92.80% \n",
      "\n",
      "\u001b[46m\u001b[30mEPOCH7\n",
      "\u001b[0m Train loss: 0.1633\tTrain Acc:92.10% \n",
      "\n",
      "\u001b[46m\u001b[30mEPOCH8\n",
      "\u001b[0m Train loss: 0.1636\tTrain Acc:92.80% \n",
      "\n",
      "\u001b[46m\u001b[30mEPOCH9\n",
      "\u001b[0m Train loss: 0.1623\tTrain Acc:92.80% \n",
      "\n",
      "\u001b[46m\u001b[30mEPOCH10\n",
      "\u001b[0m Train loss: 0.1619\tTrain Acc:92.10% \n",
      "\n"
     ]
    }
   ],
   "source": [
    "#define model\n",
    "model = Sequential()\n",
    "model.add(Dense(units = 2, \n",
    "                activation = \"softmax\"))\n",
    "\n",
    "#loss, optimizer\n",
    "loss_object = SparseCategoricalCrossentropy()\n",
    "optimizer = SGD(learning_rate = 1)\n",
    "\n",
    "#record mean of loss and acc\n",
    "train_loss = Mean()\n",
    "train_acc = SparseCategoricalAccuracy()\n",
    "\n",
    "#constant\n",
    "EPOCHS = 10\n",
    "\n",
    "for epoch in range(EPOCHS):\n",
    "    for x,y in train_ds:\n",
    "        #make forward prop for current mini-batch\n",
    "        with tf.GradientTape() as tape:\n",
    "            predictions = model(x)\n",
    "            loss = loss_object(y,predictions)\n",
    "        \n",
    "        gradients = tape.gradient(loss, model.trainable_variables)\n",
    "        optimizer.apply_gradients(zip(gradients,model.trainable_variables))\n",
    "      \n",
    "        # to compute the mean loss/acc of the current epoch, acculate the result into train_loss/\n",
    "        train_loss(loss)\n",
    "        train_acc(y,predictions)\n",
    "\n",
    "    template = \"Train loss: {:.4f}\\tTrain Acc:{:.2f}%\"        \n",
    "    print(colored(\"EPOCH{}\\n\".format(epoch+1), \"grey\", \"on_cyan\"), \n",
    "          template.format(train_loss.result(),train_acc.result()*100), \"\\n\")\n",
    "    \n",
    "    train_loss.reset_states()\n",
    "    train_acc.reset_states()"
   ]
  },
  {
   "cell_type": "code",
   "execution_count": null,
   "metadata": {},
   "outputs": [],
   "source": []
  },
  {
   "cell_type": "code",
   "execution_count": null,
   "metadata": {},
   "outputs": [],
   "source": []
  },
  {
   "cell_type": "code",
   "execution_count": null,
   "metadata": {},
   "outputs": [],
   "source": []
  },
  {
   "cell_type": "code",
   "execution_count": null,
   "metadata": {},
   "outputs": [],
   "source": []
  }
 ],
 "metadata": {
  "kernelspec": {
   "display_name": "Python 3",
   "language": "python",
   "name": "python3"
  },
  "language_info": {
   "codemirror_mode": {
    "name": "ipython",
    "version": 3
   },
   "file_extension": ".py",
   "mimetype": "text/x-python",
   "name": "python",
   "nbconvert_exporter": "python",
   "pygments_lexer": "ipython3",
   "version": "3.8.5"
  }
 },
 "nbformat": 4,
 "nbformat_minor": 4
}
