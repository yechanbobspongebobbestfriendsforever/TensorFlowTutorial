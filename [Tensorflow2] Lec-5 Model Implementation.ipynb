{
 "cells": [
  {
   "cell_type": "code",
   "execution_count": 3,
   "metadata": {},
   "outputs": [],
   "source": [
    "import tensorflow as tf\n",
    "import numpy\n",
    "import matplotlib.pyplot as plt\n",
    "from termcolor import colored"
   ]
  },
  {
   "cell_type": "code",
   "execution_count": null,
   "metadata": {},
   "outputs": [],
   "source": [
    "# TensorFlow로 Model을 만드는 방법으로는 \n",
    "# - Sequential: Keras 의 특징, 하지만 자율성이 없다\n",
    "# - Functional: \n",
    "# - Model Sub-Classing: Advance된 technique 사용 가능"
   ]
  },
  {
   "cell_type": "markdown",
   "metadata": {},
   "source": [
    "# Sequential Model Using Keras"
   ]
  },
  {
   "cell_type": "code",
   "execution_count": 51,
   "metadata": {},
   "outputs": [
    {
     "name": "stdout",
     "output_type": "stream",
     "text": [
      "<dtype: 'float32'> <dtype: 'float32'>\n",
      "<dtype: 'float32'> <dtype: 'float32'>\n"
     ]
    },
    {
     "data": {
      "image/png": "[encoded data removed]",
      "text/plain": [
       "<Figure size 504x504 with 1 Axes>"
      ]
     },
     "metadata": {
      "needs_background": "light"
     },
     "output_type": "display_data"
    }
   ],
   "source": [
    "x_train = tf.random.normal(shape = (1000,), dtype = tf.float32)\n",
    "y_train = 3* x_train + 1 + (0.2*tf.random.normal(shape = (1000,),\n",
    "                                                 dtype=tf.float32))\n",
    "\n",
    "x_test = tf.random.normal(shape = (300,), dtype = tf.float32)\n",
    "y_test = 3* x_test + 1 + (0.2*tf.random.normal(shape = (300,),\n",
    "                                               dtype=tf.float32))\n",
    "\n",
    "print(x_train.dtype, y_train.dtype)\n",
    "print(x_test.dtype, y_test.dtype)\n",
    "\n",
    "\n",
    "fig,ax = plt.subplots(figsize = (7,7))\n",
    "ax.scatter(x_train.numpy(), y_train.numpy())\n",
    "ax.tick_params(labelsize = 20)\n",
    "ax.grid()"
   ]
  },
  {
   "cell_type": "code",
   "execution_count": 31,
   "metadata": {},
   "outputs": [
    {
     "name": "stdout",
     "output_type": "stream",
     "text": [
      "Epoch 1/10\n",
      "32/32 [==============================] - 0s 749us/step - loss: 9.8528\n",
      "Epoch 2/10\n",
      "32/32 [==============================] - 0s 906us/step - loss: 2.4851\n",
      "Epoch 3/10\n",
      "32/32 [==============================] - 0s 956us/step - loss: 0.6266\n",
      "Epoch 4/10\n",
      "32/32 [==============================] - 0s 885us/step - loss: 0.1899\n",
      "Epoch 5/10\n",
      "32/32 [==============================] - 0s 813us/step - loss: 0.0788\n",
      "Epoch 6/10\n",
      "32/32 [==============================] - 0s 957us/step - loss: 0.0507\n",
      "Epoch 7/10\n",
      "32/32 [==============================] - 0s 886us/step - loss: 0.0438\n",
      "Epoch 8/10\n",
      "32/32 [==============================] - 0s 882us/step - loss: 0.0420\n",
      "Epoch 9/10\n",
      "32/32 [==============================] - 0s 893us/step - loss: 0.0415\n",
      "Epoch 10/10\n",
      "32/32 [==============================] - 0s 787us/step - loss: 0.0414\n",
      "10/10 - 0s - loss: 0.0415\n"
     ]
    },
    {
     "data": {
      "text/plain": [
       "0.04145864024758339"
      ]
     },
     "execution_count": 31,
     "metadata": {},
     "output_type": "execute_result"
    }
   ],
   "source": [
    "# activation 이 없는게 linear activation\n",
    "# need single neuron\n",
    "\n",
    "#Keras를 이용하기\n",
    "#Sequential 안에 list가 들어간다 \n",
    "model = tf.keras.Sequential([tf.keras.layers.Dense(units = 1,\n",
    "                                                   activation = \"linear\"),\n",
    "                            ])\n",
    "#compliation\n",
    "model.compile(loss = \"mean_squared_error\", \n",
    "              optimizer = \"SGD\")\n",
    "\n",
    "#training\n",
    "model.fit(x_train, \n",
    "          y_train, \n",
    "          epochs = 10, \n",
    "          batch_size = 32, \n",
    "          verbose = 1)\n",
    "\n",
    "#evaluate\n",
    "model.evaluate(x_test,y_test,verbose = 2)"
   ]
  },
  {
   "cell_type": "code",
   "execution_count": 36,
   "metadata": {},
   "outputs": [
    {
     "name": "stdout",
     "output_type": "stream",
     "text": [
      "w: [[3.0000708]]\n",
      "b: [0.996206]\n"
     ]
    }
   ],
   "source": [
    "w,b = model.get_weights()\n",
    "print(\"w:\",w)\n",
    "print(\"b:\",b)"
   ]
  },
  {
   "cell_type": "markdown",
   "metadata": {},
   "source": [
    "# Model Sub-Classing "
   ]
  },
  {
   "cell_type": "code",
   "execution_count": 76,
   "metadata": {},
   "outputs": [
    {
     "name": "stdout",
     "output_type": "stream",
     "text": [
      "<dtype: 'float32'> <dtype: 'float32'>\n",
      "<dtype: 'float32'> <dtype: 'float32'>\n"
     ]
    },
    {
     "data": {
      "image/png": "[encoded data removed]",
      "text/plain": [
       "<Figure size 504x504 with 1 Axes>"
      ]
     },
     "metadata": {
      "needs_background": "light"
     },
     "output_type": "display_data"
    }
   ],
   "source": [
    "x_train = tf.random.normal(shape = (10,), dtype = tf.float32)\n",
    "y_train = 3* x_train + 1 + (0.2*tf.random.normal(shape = (10,),\n",
    "                                                 dtype=tf.float32))\n",
    "\n",
    "x_test = tf.random.normal(shape = (3,), dtype = tf.float32)\n",
    "y_test = 3* x_test + 1 + (0.2*tf.random.normal(shape = (3,),\n",
    "                                               dtype=tf.float32))\n",
    "\n",
    "print(x_train.dtype, y_train.dtype)\n",
    "print(x_test.dtype, y_test.dtype)\n",
    "\n",
    "\n",
    "fig,ax = plt.subplots(figsize = (7,7))\n",
    "ax.scatter(x_train.numpy(), y_train.numpy())\n",
    "ax.tick_params(labelsize = 20)\n",
    "ax.grid()"
   ]
  },
  {
   "cell_type": "code",
   "execution_count": 81,
   "metadata": {},
   "outputs": [],
   "source": [
    "# Using Model Sub-Classing\n",
    "\n",
    "# TensorFlow 의 Keras Model를 상속 받는다 \n",
    "class LinearPredictor(tf.keras.Model):\n",
    "    def __init__(self):\n",
    "        # 상속한 super class의 constructor 사용\n",
    "        super(LinearPredictor, self).__init__()\n",
    "        \n",
    "        #model에 들어갈 재료들을 선언 (layer의 이름도 지정해줌)\n",
    "        self.layer_1 = tf.keras.layers.Dense(units = 1, \n",
    "                                        activation = \"linear\")\n",
    "        \n",
    "    #forward prop 시킬때 어떻게 실행할지\n",
    "    def call(self, x):\n",
    "        x = self.layer_1(x)\n",
    "        return x\n",
    "\n",
    "LR = 0.1 #learning_rate\n",
    "EPOCHS = 5 #epochs\n",
    "    \n",
    "model = LinearPredictor() #instantiate learning object\n",
    "loss_object = tf.keras.losses.MeanSquaredError() # define loss\n",
    "optimizer = tf.keras.optimizers.SGD(learning_rate = LR) # define optimizer        "
   ]
  },
  {
   "cell_type": "code",
   "execution_count": 82,
   "metadata": {
    "scrolled": true
   },
   "outputs": [
    {
     "name": "stdout",
     "output_type": "stream",
     "text": [
      "\u001b[46m\u001b[30mEPOCH:1\u001b[0m\n",
      "Train loss: 0.0721\n",
      "\n",
      "\u001b[46m\u001b[30mEPOCH:2\u001b[0m\n",
      "Train loss: 0.0120\n",
      "\n",
      "\u001b[46m\u001b[30mEPOCH:3\u001b[0m\n",
      "Train loss: 0.0051\n",
      "\n",
      "\u001b[46m\u001b[30mEPOCH:4\u001b[0m\n",
      "Train loss: 0.0039\n",
      "\n",
      "\u001b[46m\u001b[30mEPOCH:5\u001b[0m\n",
      "Train loss: 0.0037\n",
      "\n"
     ]
    }
   ],
   "source": [
    "#GradientTape을 이용해서 training/learning\n",
    "\n",
    "for epoch in range(EPOCHS):\n",
    "    # SGD로 example을 하나씩 받아옴\n",
    "    \n",
    "    for x,y in zip(x_train,y_train):\n",
    "        x = tf.reshape(x, shape = (1,1))\n",
    "        \n",
    "        #Gradient Tape을 이용해서 gradient저장 \n",
    "        with tf.GradientTape() as tape:\n",
    "            #forward prop\n",
    "            prediction = model(x)\n",
    "            loss = loss_object(y,prediction)\n",
    "        \n",
    "        #tape안에 저장된 forward prop으로 gradients를 계산한다\n",
    "        #loss에 대해서 model안의 trainable_variables의 gradient를 구한다\n",
    "        gradients = tape.gradient(loss, model.trainable_variables) \n",
    "        \n",
    "        #위 gradients 에는 여러 variable의 상응하는 gradients가 들어있기때문에 zip으로 pair를 맞춰준다\n",
    "        #model 의 trainable_variables를 update를 시켜준다\n",
    "        optimizer.apply_gradients(zip(gradients, model.trainable_variables))\n",
    "    \n",
    "    print(colored(\"EPOCH:{}\".format(epoch+1), \"grey\", \"on_cyan\"))\n",
    "    template = \"Train loss: {:.4f}\\n\"\n",
    "    print(template.format(loss))\n"
   ]
  },
  {
   "cell_type": "code",
   "execution_count": 83,
   "metadata": {},
   "outputs": [
    {
     "data": {
      "text/plain": [
       "[array([[3.127683]], dtype=float32), array([0.98025036], dtype=float32)]"
      ]
     },
     "execution_count": 83,
     "metadata": {},
     "output_type": "execute_result"
    }
   ],
   "source": [
    "model.get_weights()"
   ]
  },
  {
   "cell_type": "code",
   "execution_count": null,
   "metadata": {},
   "outputs": [],
   "source": []
  }
 ],
 "metadata": {
  "kernelspec": {
   "display_name": "Python 3",
   "language": "python",
   "name": "python3"
  },
  "language_info": {
   "codemirror_mode": {
    "name": "ipython",
    "version": 3
   },
   "file_extension": ".py",
   "mimetype": "text/x-python",
   "name": "python",
   "nbconvert_exporter": "python",
   "pygments_lexer": "ipython3",
   "version": "3.8.5"
  }
 },
 "nbformat": 4,
 "nbformat_minor": 4
}
