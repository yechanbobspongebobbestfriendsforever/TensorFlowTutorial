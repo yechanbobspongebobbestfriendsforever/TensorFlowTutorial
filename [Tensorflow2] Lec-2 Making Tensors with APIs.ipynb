{
 "cells": [
  {
   "cell_type": "code",
   "execution_count": 1,
   "metadata": {},
   "outputs": [],
   "source": [
    "import tensorflow as tf\n",
    "import numpy as np"
   ]
  },
  {
   "cell_type": "code",
   "execution_count": 4,
   "metadata": {},
   "outputs": [
    {
     "name": "stdout",
     "output_type": "stream",
     "text": [
      "tf.Tensor([1 1 1 1 1 1], shape=(6,), dtype=int32)\n"
     ]
    }
   ],
   "source": [
    "test_list = [1,1,1,1,1,1]\n",
    "t1 = tf.constant(test_list)\n",
    "print(t1)"
   ]
  },
  {
   "cell_type": "code",
   "execution_count": 15,
   "metadata": {},
   "outputs": [
    {
     "name": "stdout",
     "output_type": "stream",
     "text": [
      "tf.Tensor(\n",
      "[[[1. 1. 1. 1. 1. 1. 1.]\n",
      "  [1. 1. 1. 1. 1. 1. 1.]\n",
      "  [1. 1. 1. 1. 1. 1. 1.]\n",
      "  [1. 1. 1. 1. 1. 1. 1.]\n",
      "  [1. 1. 1. 1. 1. 1. 1.]\n",
      "  [1. 1. 1. 1. 1. 1. 1.]\n",
      "  [1. 1. 1. 1. 1. 1. 1.]]\n",
      "\n",
      " [[1. 1. 1. 1. 1. 1. 1.]\n",
      "  [1. 1. 1. 1. 1. 1. 1.]\n",
      "  [1. 1. 1. 1. 1. 1. 1.]\n",
      "  [1. 1. 1. 1. 1. 1. 1.]\n",
      "  [1. 1. 1. 1. 1. 1. 1.]\n",
      "  [1. 1. 1. 1. 1. 1. 1.]\n",
      "  [1. 1. 1. 1. 1. 1. 1.]]\n",
      "\n",
      " [[1. 1. 1. 1. 1. 1. 1.]\n",
      "  [1. 1. 1. 1. 1. 1. 1.]\n",
      "  [1. 1. 1. 1. 1. 1. 1.]\n",
      "  [1. 1. 1. 1. 1. 1. 1.]\n",
      "  [1. 1. 1. 1. 1. 1. 1.]\n",
      "  [1. 1. 1. 1. 1. 1. 1.]\n",
      "  [1. 1. 1. 1. 1. 1. 1.]]], shape=(3, 7, 7), dtype=float32)\n"
     ]
    }
   ],
   "source": [
    "t2= tf.ones(shape= (5,3))\n",
    "#image \n",
    "t3= tf.ones((3,7,7))\n",
    "print(t3)"
   ]
  },
  {
   "cell_type": "code",
   "execution_count": 18,
   "metadata": {},
   "outputs": [
    {
     "name": "stdout",
     "output_type": "stream",
     "text": [
      "tf.Tensor(\n",
      "[[[3. 3. 3.]\n",
      "  [3. 3. 3.]\n",
      "  [3. 3. 3.]\n",
      "  [3. 3. 3.]\n",
      "  [3. 3. 3.]]\n",
      "\n",
      " [[3. 3. 3.]\n",
      "  [3. 3. 3.]\n",
      "  [3. 3. 3.]\n",
      "  [3. 3. 3.]\n",
      "  [3. 3. 3.]]\n",
      "\n",
      " [[3. 3. 3.]\n",
      "  [3. 3. 3.]\n",
      "  [3. 3. 3.]\n",
      "  [3. 3. 3.]\n",
      "  [3. 3. 3.]]\n",
      "\n",
      " [[3. 3. 3.]\n",
      "  [3. 3. 3.]\n",
      "  [3. 3. 3.]\n",
      "  [3. 3. 3.]\n",
      "  [3. 3. 3.]]\n",
      "\n",
      " [[3. 3. 3.]\n",
      "  [3. 3. 3.]\n",
      "  [3. 3. 3.]\n",
      "  [3. 3. 3.]\n",
      "  [3. 3. 3.]]], shape=(5, 5, 3), dtype=float32)\n",
      "(5, 5, 3)\n"
     ]
    }
   ],
   "source": [
    "t4 = 3*tf.ones(shape= (5,5,3))\n",
    "print(t4)\n",
    "print(t4.shape)"
   ]
  },
  {
   "cell_type": "code",
   "execution_count": 27,
   "metadata": {},
   "outputs": [
    {
     "name": "stdout",
     "output_type": "stream",
     "text": [
      "(2, 3)\n",
      "tf.Tensor(\n",
      "[[1. 1. 1.]\n",
      " [1. 1. 1.]], shape=(2, 3), dtype=float32)\n",
      "\n",
      "tf.Tensor(\n",
      "[[1. 1. 1.]\n",
      " [1. 1. 1.]], shape=(2, 3), dtype=float32)\n",
      "\n",
      "tf.Tensor(\n",
      "[[0. 0. 0.]\n",
      " [0. 0. 0.]], shape=(2, 3), dtype=float32)\n",
      "\n",
      "tf.Tensor(\n",
      "[[1.6 1.6 1.6]\n",
      " [1.6 1.6 1.6]], shape=(2, 3), dtype=float32)\n"
     ]
    }
   ],
   "source": [
    "#2d list\n",
    "test_list = [[1,2,3],[4,5,6]]\n",
    "t1 = tf.Variable(test_list)\n",
    "print(t1.shape)\n",
    "\n",
    "#shape을 가져와 만드는법\n",
    "print(tf.ones(t1.shape))\n",
    "print()\n",
    "print(tf.ones_like(t1, dtype= tf.float32))\n",
    "print()\n",
    "print(tf.zeros_like(t1, dtype= tf.float32))\n",
    "print()\n",
    "print(tf.fill((2,3),1.6))"
   ]
  },
  {
   "cell_type": "code",
   "execution_count": 32,
   "metadata": {},
   "outputs": [
    {
     "name": "stdout",
     "output_type": "stream",
     "text": [
      "tf.Tensor(\n",
      "[[ 1.5110626   0.42292204 -0.41969493 -1.0360372  -1.2368279 ]\n",
      " [ 0.47027302 -0.01397489  1.1888583   0.60253334  0.5997111 ]\n",
      " [-0.7057119  -0.43297544  0.7936245  -0.6974926  -0.9598332 ]\n",
      " [-0.9006969  -0.36081055 -0.22377317  0.30383846  0.52152544]\n",
      " [ 0.1554326   1.5885501  -0.7958055   0.07794423 -0.17937538]], shape=(5, 5), dtype=float32)\n",
      "tf.Tensor(\n",
      "[[ 1.5110626   0.42292204 -0.41969493 -1.0360372  -1.2368279 ]\n",
      " [ 0.47027302 -0.01397489  1.1888583   0.60253334  0.5997111 ]\n",
      " [-0.7057119  -0.43297544  0.7936245  -0.6974926  -0.9598332 ]\n",
      " [-0.9006969  -0.36081055 -0.22377317  0.30383846  0.52152544]\n",
      " [ 0.1554326   1.5885501  -0.7958055   0.07794423 -0.17937538]], shape=(5, 5), dtype=float32)\n"
     ]
    }
   ],
   "source": [
    "#random intialization\n",
    "tf.random.set_seed(0)\n",
    "\n",
    "t1 = tf.random.normal(shape = (5,5))\n",
    "print(t1)\n",
    "\n",
    "tf.random.set_seed(0)\n",
    "t1 = tf.random.normal(shape = (5,5))\n",
    "print(t1)"
   ]
  },
  {
   "cell_type": "code",
   "execution_count": 43,
   "metadata": {},
   "outputs": [
    {
     "name": "stdout",
     "output_type": "stream",
     "text": [
      "(array([[  0.,   1.,   1.,   0.,   0.,   4.,   9.,  10.,  23.,  32.,  47.,\n",
      "         54.,  75., 103., 116., 104.,  97.,  91.,  61.,  48.,  42.,  30.,\n",
      "         23.,  12.,   8.,   5.,   3.,   1.,   0.,   0.],\n",
      "       [  0.,   0.,   1.,   0.,   1.,   3.,   8.,  10.,  23.,  34.,  52.,\n",
      "         70.,  75.,  93.,  94.,  94., 106.,  66.,  77.,  54.,  46.,  31.,\n",
      "         24.,  17.,   8.,   4.,   6.,   1.,   1.,   1.],\n",
      "       [  1.,   0.,   2.,   1.,   0.,   7.,  10.,   9.,  25.,  26.,  49.,\n",
      "         63.,  83.,  91., 109., 104.,  99.,  97.,  66.,  64.,  33.,  26.,\n",
      "         15.,  11.,   3.,   5.,   0.,   1.,   0.,   0.],\n",
      "       [  0.,   0.,   0.,   0.,   1.,   7.,   8.,  16.,  21.,  38.,  27.,\n",
      "         61.,  73., 105.,  97., 105., 106.,  79.,  81.,  55.,  52.,  30.,\n",
      "         11.,   7.,  13.,   1.,   3.,   2.,   1.,   0.],\n",
      "       [  0.,   1.,   0.,   1.,   1.,   5.,   8.,  21.,  25.,  29.,  49.,\n",
      "         62.,  77.,  91., 109., 127., 104.,  80.,  71.,  35.,  29.,  24.,\n",
      "         19.,  15.,   9.,   5.,   2.,   1.,   0.,   0.],\n",
      "       [  0.,   0.,   0.,   0.,   2.,   6.,  10.,  17.,  22.,  31.,  52.,\n",
      "         66.,  65., 100., 100.,  87.,  79.,  91.,  85.,  65.,  40.,  30.,\n",
      "         24.,  10.,   7.,   6.,   3.,   0.,   2.,   0.],\n",
      "       [  0.,   0.,   0.,   1.,   4.,   6.,   4.,  13.,  26.,  26.,  49.,\n",
      "         76.,  71.,  74.,  92., 110., 120.,  80.,  71.,  59.,  42.,  24.,\n",
      "         20.,  14.,   9.,   4.,   4.,   1.,   0.,   0.],\n",
      "       [  0.,   0.,   2.,   0.,   4.,   4.,  11.,   7.,  26.,  36.,  60.,\n",
      "         60.,  73.,  89.,  95.,  91., 101.,  92.,  69.,  56.,  38.,  40.,\n",
      "         17.,  11.,  11.,   3.,   3.,   0.,   1.,   0.],\n",
      "       [  0.,   0.,   0.,   0.,   2.,   5.,   6.,  15.,  20.,  43.,  39.,\n",
      "         63.,  83., 112.,  96., 104.,  88.,  81.,  65.,  64.,  49.,  27.,\n",
      "         15.,  10.,   8.,   3.,   1.,   0.,   0.,   1.],\n",
      "       [  0.,   0.,   1.,   1.,   3.,   4.,   7.,  14.,  18.,  32.,  47.,\n",
      "         52.,  77., 102., 108.,  87.,  94.,  85.,  78.,  61.,  44.,  23.,\n",
      "         24.,  13.,  10.,   8.,   1.,   4.,   2.,   0.]]), array([-0.88115454, -0.62855273, -0.37595093, -0.12334915,  0.12925266,\n",
      "        0.38185444,  0.6344563 ,  0.8870581 ,  1.1396599 ,  1.3922616 ,\n",
      "        1.6448635 ,  1.8974652 ,  2.150067  ,  2.402669  ,  2.6552706 ,\n",
      "        2.9078724 ,  3.1604743 ,  3.413076  ,  3.6656778 ,  3.9182796 ,\n",
      "        4.1708813 ,  4.4234834 ,  4.676085  ,  4.9286866 ,  5.1812887 ,\n",
      "        5.4338903 ,  5.6864924 ,  5.939094  ,  6.1916957 ,  6.444298  ,\n",
      "        6.6968994 ], dtype=float32), <a list of 10 BarContainer objects>)\n"
     ]
    },
    {
     "data": {
      "image/png": "[encoded data removed]",
      "text/plain": [
       "<Figure size 864x576 with 1 Axes>"
      ]
     },
     "metadata": {
      "needs_background": "light"
     },
     "output_type": "display_data"
    }
   ],
   "source": [
    "t2 = tf.random.normal(mean = 3, stddev= 1, shape = (1000,10))\n",
    "\n",
    "import matplotlib.pyplot as plt\n",
    "fig, ax = plt.subplots(figsize= (12,8))\n",
    "print(ax.hist(t2.numpy(), bins = 30))\n"
   ]
  },
  {
   "cell_type": "code",
   "execution_count": 48,
   "metadata": {},
   "outputs": [
    {
     "name": "stdout",
     "output_type": "stream",
     "text": [
      "(array([17., 23., 19., 19., 17., 16., 17., 18., 17., 13., 18., 18., 13.,\n",
      "       16.,  9., 12., 17., 17., 13., 16., 21., 17., 25., 17., 11., 12.,\n",
      "       21., 19., 16., 16.]), array([-9.939529  , -9.27533   , -8.611131  , -7.946931  , -7.2827315 ,\n",
      "       -6.6185317 , -5.9543324 , -5.290133  , -4.625933  , -3.9617338 ,\n",
      "       -3.2975342 , -2.6333349 , -1.9691353 , -1.3049358 , -0.6407363 ,\n",
      "        0.02346325,  0.6876628 ,  1.3518623 ,  2.0160618 ,  2.6802614 ,\n",
      "        3.3444607 ,  4.0086603 ,  4.6728597 ,  5.3370595 ,  6.001259  ,\n",
      "        6.665458  ,  7.329658  ,  7.9938574 ,  8.658057  ,  9.322256  ,\n",
      "        9.986456  ], dtype=float32), <BarContainer object of 30 artists>)\n"
     ]
    },
    {
     "data": {
      "image/png": "[encoded data removed]",
      "text/plain": [
       "<Figure size 864x576 with 1 Axes>"
      ]
     },
     "metadata": {
      "needs_background": "light"
     },
     "output_type": "display_data"
    }
   ],
   "source": [
    "t2 = tf.random.uniform(shape= (500,), minval = -10, maxval = 10)\n",
    "fig, ax = plt.subplots(figsize= (12,8))\n",
    "print(ax.hist(t2.numpy(), bins = 30))\n"
   ]
  },
  {
   "cell_type": "code",
   "execution_count": 51,
   "metadata": {},
   "outputs": [
    {
     "name": "stdout",
     "output_type": "stream",
     "text": [
      "(array([ 5.,  0., 20.,  0., 51.,  0., 60.,  0.,  0., 97.,  0., 89.,  0.,\n",
      "       77.,  0.,  0., 45.,  0., 24.,  0., 16.,  0.,  0., 10.,  0.,  0.,\n",
      "        0.,  5.,  0.,  1.]), array([ 0.        ,  0.43333334,  0.8666667 ,  1.3       ,  1.7333333 ,\n",
      "        2.1666667 ,  2.6       ,  3.0333333 ,  3.4666667 ,  3.9       ,\n",
      "        4.3333335 ,  4.766667  ,  5.2       ,  5.633333  ,  6.0666666 ,\n",
      "        6.5       ,  6.9333334 ,  7.366667  ,  7.8       ,  8.233334  ,\n",
      "        8.666667  ,  9.1       ,  9.533334  ,  9.966666  , 10.4       ,\n",
      "       10.833333  , 11.266666  , 11.7       , 12.133333  , 12.566667  ,\n",
      "       13.        ], dtype=float32), <BarContainer object of 30 artists>)\n"
     ]
    },
    {
     "data": {
      "image/png": "[encoded data removed]",
      "text/plain": [
       "<Figure size 864x576 with 1 Axes>"
      ]
     },
     "metadata": {
      "needs_background": "light"
     },
     "output_type": "display_data"
    }
   ],
   "source": [
    "t2 = tf.random.poisson(shape= (500,), lam = 5)\n",
    "fig, ax = plt.subplots(figsize= (12,8))\n",
    "print(ax.hist(t2.numpy(), bins = 30))\n"
   ]
  },
  {
   "cell_type": "code",
   "execution_count": 52,
   "metadata": {},
   "outputs": [
    {
     "name": "stdout",
     "output_type": "stream",
     "text": [
      "t1.shape: (128, 128)\n",
      "t1.dtype: <dtype: 'float32'>\n",
      "\n"
     ]
    }
   ],
   "source": [
    "t1 = tf.random.normal(shape = (128,128))\n",
    "print(\"t1.shape:\", t1.shape)\n",
    "print(\"t1.dtype:\",t1.dtype)\n",
    "print()"
   ]
  },
  {
   "cell_type": "code",
   "execution_count": 56,
   "metadata": {},
   "outputs": [
    {
     "name": "stdout",
     "output_type": "stream",
     "text": [
      "int64\n",
      "<dtype: 'int64'>\n"
     ]
    }
   ],
   "source": [
    "test_np = np.random.randint(-10,10,size = (100,))\n",
    "print(test_np.dtype)\n",
    "\n",
    "t1 = tf.constant(test_np)\n",
    "print(t1.dtype)"
   ]
  },
  {
   "cell_type": "code",
   "execution_count": null,
   "metadata": {},
   "outputs": [],
   "source": []
  },
  {
   "cell_type": "code",
   "execution_count": null,
   "metadata": {},
   "outputs": [],
   "source": []
  },
  {
   "cell_type": "code",
   "execution_count": null,
   "metadata": {},
   "outputs": [],
   "source": []
  },
  {
   "cell_type": "code",
   "execution_count": null,
   "metadata": {},
   "outputs": [],
   "source": []
  },
  {
   "cell_type": "code",
   "execution_count": null,
   "metadata": {},
   "outputs": [],
   "source": []
  },
  {
   "cell_type": "code",
   "execution_count": null,
   "metadata": {},
   "outputs": [],
   "source": []
  },
  {
   "cell_type": "code",
   "execution_count": null,
   "metadata": {},
   "outputs": [],
   "source": []
  },
  {
   "cell_type": "code",
   "execution_count": null,
   "metadata": {},
   "outputs": [],
   "source": []
  },
  {
   "cell_type": "code",
   "execution_count": null,
   "metadata": {},
   "outputs": [],
   "source": []
  },
  {
   "cell_type": "code",
   "execution_count": null,
   "metadata": {},
   "outputs": [],
   "source": []
  },
  {
   "cell_type": "code",
   "execution_count": null,
   "metadata": {},
   "outputs": [],
   "source": []
  },
  {
   "cell_type": "code",
   "execution_count": null,
   "metadata": {},
   "outputs": [],
   "source": []
  },
  {
   "cell_type": "code",
   "execution_count": null,
   "metadata": {},
   "outputs": [],
   "source": []
  }
 ],
 "metadata": {
  "kernelspec": {
   "display_name": "Python 3",
   "language": "python",
   "name": "python3"
  },
  "language_info": {
   "codemirror_mode": {
    "name": "ipython",
    "version": 3
   },
   "file_extension": ".py",
   "mimetype": "text/x-python",
   "name": "python",
   "nbconvert_exporter": "python",
   "pygments_lexer": "ipython3",
   "version": "3.8.5"
  }
 },
 "nbformat": 4,
 "nbformat_minor": 4
}
