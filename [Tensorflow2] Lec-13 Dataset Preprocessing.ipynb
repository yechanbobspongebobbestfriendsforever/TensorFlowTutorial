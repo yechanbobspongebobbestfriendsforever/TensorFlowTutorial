{
 "cells": [
  {
   "cell_type": "code",
   "execution_count": 1,
   "metadata": {},
   "outputs": [],
   "source": [
    "import tensorflow as tf\n",
    "import tensorflow_datasets as tfds\n",
    "import numpy as np\n",
    "import matplotlib.pyplot as plt"
   ]
  },
  {
   "cell_type": "code",
   "execution_count": 4,
   "metadata": {},
   "outputs": [],
   "source": [
    "train_ds = tfds.load(name = \"mnist\", \n",
    "                     shuffle_files = True, \n",
    "                     as_supervised=True, \n",
    "                     split = \"train\",\n",
    "                     batch_size = 4)"
   ]
  },
  {
   "cell_type": "code",
   "execution_count": 9,
   "metadata": {},
   "outputs": [
    {
     "name": "stdout",
     "output_type": "stream",
     "text": [
      "(4, 28, 28, 1)\n",
      "<dtype: 'uint8'>\n",
      "\n",
      "tf.Tensor(255, shape=(), dtype=uint8)\n",
      "\n",
      "(4,)\n",
      "<dtype: 'int64'>\n"
     ]
    }
   ],
   "source": [
    "# 2 problems \n",
    "# - images in tf.int8\n",
    "# - need to normalize the input data \n",
    "\n",
    "for images,labels in train_ds:\n",
    "    print(images.shape)\n",
    "    print(images.dtype)\n",
    "    print()\n",
    "    print(tf.reduce_max(images))\n",
    "    print()\n",
    "    print(labels.shape)\n",
    "    print(labels.dtype)\n",
    "    break"
   ]
  },
  {
   "cell_type": "code",
   "execution_count": 12,
   "metadata": {},
   "outputs": [
    {
     "name": "stdout",
     "output_type": "stream",
     "text": [
      "[2, 4, 6, 8, 10]\n",
      "[2, 4, 6, 8, 10]\n",
      "\n",
      "<dtype: 'int32'>\n",
      "<dtype: 'float32'>\n"
     ]
    }
   ],
   "source": [
    "#map: iteratively apply function \n",
    "a = [1,2,3,4,5]\n",
    "def double(num):\n",
    "    return 2*num\n",
    "\n",
    "doubled = list(map(double,a))\n",
    "print(doubled)\n",
    "\n",
    "#lambda: lambda input: output\n",
    "doubled_2 = list(map(lambda x: 2*x,a))\n",
    "print(doubled_2)\n",
    "\n",
    "#tf.cast: casting to new dtype\n",
    "print()\n",
    "t1 = tf.constant([1,2,3,4,5])\n",
    "print(t1.dtype)\n",
    "t2 = tf.cast(t1, dtype = tf.float32)\n",
    "print(t2.dtype)"
   ]
  },
  {
   "cell_type": "code",
   "execution_count": null,
   "metadata": {},
   "outputs": [],
   "source": []
  },
  {
   "cell_type": "code",
   "execution_count": 23,
   "metadata": {},
   "outputs": [],
   "source": [
    "train_ds = tfds.load(name = \"mnist\", \n",
    "                     shuffle_files = True, \n",
    "                     as_supervised=True, \n",
    "                     split = \"train\")"
   ]
  },
  {
   "cell_type": "code",
   "execution_count": 24,
   "metadata": {},
   "outputs": [
    {
     "name": "stdout",
     "output_type": "stream",
     "text": [
      "<dtype: 'float32'> tf.Tensor(1.0, shape=(), dtype=float32)\n"
     ]
    }
   ],
   "source": [
    "# normalize and change dtype\n",
    "def standardization(images,labels):\n",
    "    images = tf.cast(images,tf.float32)/255\n",
    "    return [images,labels]\n",
    "\n",
    "train_ds = train_ds.map(standardization)\n",
    "\n",
    "train_ds_iter = iter(train_ds)\n",
    "images,labels = next(train_ds_iter)\n",
    "print(images.dtype, tf.reduce_max(images))\n"
   ]
  },
  {
   "cell_type": "code",
   "execution_count": 27,
   "metadata": {},
   "outputs": [
    {
     "data": {
      "text/plain": [
       "60000"
      ]
     },
     "execution_count": 27,
     "metadata": {},
     "output_type": "execute_result"
    }
   ],
   "source": [
    "len(train_ds)"
   ]
  },
  {
   "cell_type": "code",
   "execution_count": 22,
   "metadata": {},
   "outputs": [
    {
     "data": {
      "text/plain": [
       "<_OptionsDataset shapes: ((None, 28, 28, 1), (None,)), types: (tf.uint8, tf.int64)>"
      ]
     },
     "execution_count": 22,
     "metadata": {},
     "output_type": "execute_result"
    }
   ],
   "source": [
    "train_ds"
   ]
  },
  {
   "cell_type": "code",
   "execution_count": null,
   "metadata": {},
   "outputs": [],
   "source": []
  },
  {
   "cell_type": "code",
   "execution_count": null,
   "metadata": {},
   "outputs": [],
   "source": []
  },
  {
   "cell_type": "code",
   "execution_count": null,
   "metadata": {},
   "outputs": [],
   "source": []
  },
  {
   "cell_type": "code",
   "execution_count": null,
   "metadata": {},
   "outputs": [],
   "source": []
  },
  {
   "cell_type": "code",
   "execution_count": null,
   "metadata": {},
   "outputs": [],
   "source": []
  },
  {
   "cell_type": "code",
   "execution_count": null,
   "metadata": {},
   "outputs": [],
   "source": []
  },
  {
   "cell_type": "code",
   "execution_count": null,
   "metadata": {},
   "outputs": [],
   "source": []
  },
  {
   "cell_type": "code",
   "execution_count": null,
   "metadata": {},
   "outputs": [],
   "source": []
  },
  {
   "cell_type": "code",
   "execution_count": null,
   "metadata": {},
   "outputs": [],
   "source": []
  },
  {
   "cell_type": "code",
   "execution_count": null,
   "metadata": {},
   "outputs": [],
   "source": []
  },
  {
   "cell_type": "code",
   "execution_count": null,
   "metadata": {},
   "outputs": [],
   "source": []
  },
  {
   "cell_type": "code",
   "execution_count": null,
   "metadata": {},
   "outputs": [],
   "source": []
  },
  {
   "cell_type": "code",
   "execution_count": null,
   "metadata": {},
   "outputs": [],
   "source": []
  },
  {
   "cell_type": "code",
   "execution_count": null,
   "metadata": {},
   "outputs": [],
   "source": []
  },
  {
   "cell_type": "code",
   "execution_count": null,
   "metadata": {},
   "outputs": [],
   "source": []
  },
  {
   "cell_type": "code",
   "execution_count": null,
   "metadata": {},
   "outputs": [],
   "source": []
  },
  {
   "cell_type": "code",
   "execution_count": null,
   "metadata": {},
   "outputs": [],
   "source": []
  },
  {
   "cell_type": "code",
   "execution_count": null,
   "metadata": {},
   "outputs": [],
   "source": []
  }
 ],
 "metadata": {
  "kernelspec": {
   "display_name": "Python 3",
   "language": "python",
   "name": "python3"
  },
  "language_info": {
   "codemirror_mode": {
    "name": "ipython",
    "version": 3
   },
   "file_extension": ".py",
   "mimetype": "text/x-python",
   "name": "python",
   "nbconvert_exporter": "python",
   "pygments_lexer": "ipython3",
   "version": "3.8.5"
  }
 },
 "nbformat": 4,
 "nbformat_minor": 4
}
