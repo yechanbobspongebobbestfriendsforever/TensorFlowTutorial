{
 "cells": [
  {
   "cell_type": "code",
   "execution_count": 1,
   "metadata": {},
   "outputs": [],
   "source": [
    "import tensorflow as tf\n",
    "import numpy as np"
   ]
  },
  {
   "cell_type": "code",
   "execution_count": 7,
   "metadata": {},
   "outputs": [
    {
     "name": "stdout",
     "output_type": "stream",
     "text": [
      "[1, 2, 3, 10, 20, 30]\n",
      "\n",
      "tf.Tensor([ -9 -18 -27], shape=(3,), dtype=int32)\n",
      "\n",
      "tf.Tensor([0.1 0.1 0.1], shape=(3,), dtype=float64)\n",
      "\n",
      "tf.Tensor([10 40 90], shape=(3,), dtype=int32)\n",
      "\n",
      "tf.Tensor([0 0 0], shape=(3,), dtype=int32)\n",
      "\n",
      "tf.Tensor([1 2 3], shape=(3,), dtype=int32)\n",
      "\n"
     ]
    }
   ],
   "source": [
    "t1 = tf.constant([1,2,3])\n",
    "t2 = tf.constant([10,20,30])\n",
    "\n",
    "#basic python list: concate\n",
    "py_lst1 = [1,2,3]\n",
    "py_lst2 = [10,20,30]\n",
    "print(py_lst1+py_lst2)\n",
    "print()\n",
    "\n",
    "#element-wise addition\n",
    "print(t1-t2)\n",
    "print()\n",
    "#element-wise \n",
    "print(t1/t2)\n",
    "print()\n",
    "#element-wise \n",
    "print(t1*t2)\n",
    "print()\n",
    "#element-wise \n",
    "print(t1//t2)\n",
    "print()\n",
    "#element-wise \n",
    "print(t1%t2)\n",
    "print()"
   ]
  },
  {
   "cell_type": "code",
   "execution_count": 14,
   "metadata": {},
   "outputs": [
    {
     "name": "stdout",
     "output_type": "stream",
     "text": [
      "[[ 0  0 -1  0]\n",
      " [ 1 -3 -5 -2]\n",
      " [ 0 -6  2  7]] \n",
      "\n",
      "[[ 5 -4  0  5]\n",
      " [-1  0  0 -3]\n",
      " [-1 -5  0  5]]\n",
      "\n",
      " [[  5  -4  -1   5]\n",
      " [  0  -3  -5  -5]\n",
      " [ -1 -11   2  12]]\n"
     ]
    }
   ],
   "source": [
    "t1 = tf.random.normal(shape= (3,4), mean = 0, stddev=5)\n",
    "t2 = tf.random.normal(shape= (3,4), mean = 0, stddev=5)\n",
    "\n",
    "t1 = tf.cast(t1, dtype= tf.int16)\n",
    "t2 = tf.cast(t2, dtype= tf.int16)\n",
    "\n",
    "print(t1.numpy(),\"\\n\")\n",
    "print(t2.numpy())\n",
    "print(\"\\n\", (t1+t2).numpy())"
   ]
  },
  {
   "cell_type": "code",
   "execution_count": 20,
   "metadata": {},
   "outputs": [
    {
     "name": "stdout",
     "output_type": "stream",
     "text": [
      "[[ -5  -7  -3  -3]\n",
      " [-10   5  -9   8]\n",
      " [  0  -6   7  -6]] \n",
      "\n",
      "[[ 5  0  5 -9]]\n",
      "\n",
      " [[  0  -7   2 -12]\n",
      " [ -5   5  -4  -1]\n",
      " [  5  -6  12 -15]]\n",
      "\n",
      "[[  2  -4  -6 -10]\n",
      " [  0  -4  -1   3]\n",
      " [  8   0   2  -6]] \n",
      "\n",
      "[[-4]]\n",
      "\n",
      " [[ -2  -8 -10 -14]\n",
      " [ -4  -8  -5  -1]\n",
      " [  4  -4  -2 -10]]\n",
      "\n",
      "[[ -1   1  -1   2]\n",
      " [  5  -2   0   3]\n",
      " [-11   1   0   0]] \n",
      "\n",
      "[[ 1]\n",
      " [ 0]\n",
      " [-3]]\n",
      "\n",
      " [[  0   2   0   3]\n",
      " [  5  -2   0   3]\n",
      " [-14  -2  -3  -3]]\n",
      "\n",
      "[[ 0]\n",
      " [-1]\n",
      " [-2]] \n",
      "\n",
      "[[2 3 1 2]]\n",
      "\n",
      " [[ 2  3  1  2]\n",
      " [ 1  2  0  1]\n",
      " [ 0  1 -1  0]]\n"
     ]
    }
   ],
   "source": [
    "# broadcasting\n",
    "t1 = tf.random.normal(shape= (3,4), mean = 0, stddev=5)\n",
    "t2 = tf.random.normal(shape= (1,4), mean = 0, stddev=5)\n",
    "\n",
    "t1 = tf.cast(t1, dtype= tf.int16)\n",
    "t2 = tf.cast(t2, dtype= tf.int16)\n",
    "\n",
    "print(t1.numpy(),\"\\n\")\n",
    "print(t2.numpy())\n",
    "print(\"\\n\", (t1+t2).numpy())\n",
    "print()\n",
    "\n",
    "# broadcasting\n",
    "t1 = tf.random.normal(shape= (3,4), mean = 0, stddev=5)\n",
    "t2 = tf.random.normal(shape= (1,1), mean = 0, stddev=5)\n",
    "\n",
    "t1 = tf.cast(t1, dtype= tf.int16)\n",
    "t2 = tf.cast(t2, dtype= tf.int16)\n",
    "\n",
    "print(t1.numpy(),\"\\n\")\n",
    "print(t2.numpy())\n",
    "print(\"\\n\", (t1+t2).numpy())\n",
    "\n",
    "print()\n",
    "\n",
    "# broadcasting\n",
    "t1 = tf.random.normal(shape= (3,4), mean = 0, stddev=5)\n",
    "t2 = tf.random.normal(shape= (3,1), mean = 0, stddev=5)\n",
    "\n",
    "t1 = tf.cast(t1, dtype= tf.int16)\n",
    "t2 = tf.cast(t2, dtype= tf.int16)\n",
    "\n",
    "print(t1.numpy(),\"\\n\")\n",
    "print(t2.numpy())\n",
    "print(\"\\n\", (t1+t2).numpy())\n",
    "print()\n",
    "# broadcasting\n",
    "t1 = tf.random.normal(shape= (3,1), mean = 0, stddev=5)\n",
    "t2 = tf.random.normal(shape= (1,4), mean = 0, stddev=5)\n",
    "\n",
    "t1 = tf.cast(t1, dtype= tf.int16)\n",
    "t2 = tf.cast(t2, dtype= tf.int16)\n",
    "\n",
    "print(t1.numpy(),\"\\n\")\n",
    "print(t2.numpy())\n",
    "print(\"\\n\", (t1+t2).numpy())"
   ]
  },
  {
   "cell_type": "code",
   "execution_count": 31,
   "metadata": {},
   "outputs": [
    {
     "name": "stdout",
     "output_type": "stream",
     "text": [
      "[[ 3  1 -4]\n",
      " [-6  4 11]\n",
      " [-3  3  0]\n",
      " [ 1  2 -7]\n",
      " [ 0  4  5]\n",
      " [ 2  3  4]\n",
      " [-7  8  0]]\n",
      "24\n",
      "[-10  25   9]\n",
      "[ 0  9  0 -4  9  9  1]\n"
     ]
    }
   ],
   "source": [
    "#column: attribute, row: single instance\n",
    "\n",
    "# tf.reduce_prod\n",
    "# tf.reduce_max\n",
    "# tf.reduce_min\n",
    "\n",
    "# tf.reduce_mean\n",
    "# tf.reduce_std\n",
    "# tf.reduce_variance\n",
    "\n",
    "# tf.reduce_all\n",
    "# tf.reduce_any\n",
    "\n",
    "t1 = tf.random.normal(shape= (7,3), mean = 0, stddev=5)\n",
    "t1 = tf.cast(t1, dtype = tf.int16)\n",
    "print(t1.numpy())\n",
    "\n",
    "# row sum, column sum\n",
    "#reduced sum, reduce prod\n",
    "\n",
    "print(tf.reduce_sum(t1).numpy()) # all element sum\n",
    "print(tf.reduce_sum(t1, axis= 0).numpy()) \n",
    "print(tf.reduce_sum(t1, axis= 1).numpy()) "
   ]
  },
  {
   "cell_type": "code",
   "execution_count": 36,
   "metadata": {},
   "outputs": [
    {
     "name": "stdout",
     "output_type": "stream",
     "text": [
      "(128, 128, 3)\n",
      "(128, 128)\n"
     ]
    }
   ],
   "source": [
    "#image \n",
    "t1 = tf.random.normal(shape= (128,128,3), mean = 0, stddev=5)\n",
    "t1 = tf.cast(t1, dtype = tf.int16)\n",
    "print(t1.numpy().shape)\n",
    "\n",
    "#In RGB channel, get sum of the pixel values at same location\n",
    "res = tf.reduce_sum(t1, axis =2)\n",
    "print(res.shape)"
   ]
  },
  {
   "cell_type": "code",
   "execution_count": 37,
   "metadata": {},
   "outputs": [
    {
     "name": "stdout",
     "output_type": "stream",
     "text": [
      "(128, 128, 3)\n",
      "(128, 128)\n"
     ]
    }
   ],
   "source": [
    "#image \n",
    "t1 = tf.random.normal(shape= (128,128,3), mean = 0, stddev=5)\n",
    "t1 = tf.cast(t1, dtype = tf.int16)\n",
    "print(t1.numpy().shape)\n",
    "\n",
    "#In RGB channel, get average of the pixel values at same location\n",
    "res = tf.reduce_mean(t1, axis =2)\n",
    "print(res.shape)"
   ]
  },
  {
   "cell_type": "code",
   "execution_count": null,
   "metadata": {},
   "outputs": [],
   "source": []
  },
  {
   "cell_type": "code",
   "execution_count": null,
   "metadata": {},
   "outputs": [],
   "source": []
  },
  {
   "cell_type": "code",
   "execution_count": null,
   "metadata": {},
   "outputs": [],
   "source": []
  },
  {
   "cell_type": "code",
   "execution_count": null,
   "metadata": {},
   "outputs": [],
   "source": []
  },
  {
   "cell_type": "code",
   "execution_count": null,
   "metadata": {},
   "outputs": [],
   "source": []
  },
  {
   "cell_type": "code",
   "execution_count": null,
   "metadata": {},
   "outputs": [],
   "source": []
  },
  {
   "cell_type": "code",
   "execution_count": null,
   "metadata": {},
   "outputs": [],
   "source": []
  },
  {
   "cell_type": "code",
   "execution_count": null,
   "metadata": {},
   "outputs": [],
   "source": []
  },
  {
   "cell_type": "code",
   "execution_count": null,
   "metadata": {},
   "outputs": [],
   "source": []
  },
  {
   "cell_type": "code",
   "execution_count": null,
   "metadata": {},
   "outputs": [],
   "source": []
  },
  {
   "cell_type": "code",
   "execution_count": null,
   "metadata": {},
   "outputs": [],
   "source": []
  },
  {
   "cell_type": "code",
   "execution_count": null,
   "metadata": {},
   "outputs": [],
   "source": []
  },
  {
   "cell_type": "code",
   "execution_count": null,
   "metadata": {},
   "outputs": [],
   "source": []
  },
  {
   "cell_type": "code",
   "execution_count": null,
   "metadata": {},
   "outputs": [],
   "source": []
  },
  {
   "cell_type": "code",
   "execution_count": null,
   "metadata": {},
   "outputs": [],
   "source": []
  }
 ],
 "metadata": {
  "kernelspec": {
   "display_name": "Python 3",
   "language": "python",
   "name": "python3"
  },
  "language_info": {
   "codemirror_mode": {
    "name": "ipython",
    "version": 3
   },
   "file_extension": ".py",
   "mimetype": "text/x-python",
   "name": "python",
   "nbconvert_exporter": "python",
   "pygments_lexer": "ipython3",
   "version": "3.8.5"
  }
 },
 "nbformat": 4,
 "nbformat_minor": 4
}
