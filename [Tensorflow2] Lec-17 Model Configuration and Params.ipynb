{
 "cells": [
  {
   "cell_type": "code",
   "execution_count": 4,
   "metadata": {},
   "outputs": [],
   "source": [
    "import os \n",
    "import json\n",
    "\n",
    "import tensorflow as tf\n",
    "import tensorflow_datasets as tfds\n",
    "import numpy as np\n",
    "import matplotlib.pyplot as plt\n",
    "import matplotlib.cm as cm\n",
    "from termcolor import colored\n",
    "\n",
    "from tensorflow.keras.models import Model, Sequential\n",
    "from tensorflow.keras.layers import Dense, Activation, Flatten\n",
    "\n",
    "from tensorflow.keras.losses import SparseCategoricalCrossentropy\n",
    "from tensorflow.keras.optimizers import Adam, SGD\n",
    "from tensorflow.keras.metrics import Mean, SparseCategoricalAccuracy\n",
    "\n",
    "from tensorflow.keras.layers import InputLayer\n",
    "\n",
    "from tensorflow.keras.models import Sequential\n",
    "from tensorflow.keras.layers import Conv2D, MaxPooling2D, Dropout\n",
    "from tensorflow.keras.layers import Flatten, Dense, Activation\n",
    "\n",
    "os.environ[\"TF_FORCE_GPU_ALLOW_GROWTH\"] = \"true\""
   ]
  },
  {
   "cell_type": "code",
   "execution_count": 8,
   "metadata": {},
   "outputs": [
    {
     "name": "stdout",
     "output_type": "stream",
     "text": [
      "Model: \"sequential_5\"\n",
      "_________________________________________________________________\n",
      "Layer (type)                 Output Shape              Param #   \n",
      "=================================================================\n",
      "conv_1 (Conv2D)              (None, 26, 26, 10)        100       \n",
      "_________________________________________________________________\n",
      "conv_1_maxpool (MaxPooling2D (None, 13, 13, 10)        0         \n",
      "_________________________________________________________________\n",
      "conv_1_act (Activation)      (None, 13, 13, 10)        0         \n",
      "_________________________________________________________________\n",
      "conv_2 (Conv2D)              (None, 11, 11, 10)        910       \n",
      "_________________________________________________________________\n",
      "conv_2_maxpool (MaxPooling2D (None, 5, 5, 10)          0         \n",
      "_________________________________________________________________\n",
      "conv_2_act (Activation)      (None, 5, 5, 10)          0         \n",
      "_________________________________________________________________\n",
      "flatten_4 (Flatten)          (None, 250)               0         \n",
      "_________________________________________________________________\n",
      "dense_1 (Dense)              (None, 32)                8032      \n",
      "_________________________________________________________________\n",
      "dense_2 (Dense)              (None, 10)                330       \n",
      "=================================================================\n",
      "Total params: 9,372\n",
      "Trainable params: 9,372\n",
      "Non-trainable params: 0\n",
      "_________________________________________________________________\n"
     ]
    }
   ],
   "source": [
    "model = Sequential()\n",
    "#------CONV_1---------\n",
    "model.add(Conv2D(filters = 10, kernel_size = (3,3), \n",
    "                 padding = \"valid\", name = \"conv_1\"))\n",
    "model.add(MaxPooling2D(pool_size = (2,2), strides = 2, \n",
    "                       name = \"conv_1_maxpool\"))\n",
    "model.add(Activation(\"relu\", \n",
    "                     name = \"conv_1_act\"))\n",
    "#------CONV_2---------\n",
    "model.add(Conv2D(filters = 10, kernel_size = (3,3), \n",
    "                 padding = \"valid\", name = \"conv_2\"))\n",
    "model.add(MaxPooling2D(pool_size = (2,2), strides = 2, \n",
    "                       name = \"conv_2_maxpool\"))\n",
    "model.add(Activation(\"relu\", \n",
    "                     name = \"conv_2_act\"))\n",
    "#------MLP(FC)---------\n",
    "model.add(Flatten())\n",
    "model.add(Dense(units = 32, activation = \"relu\", name = \"dense_1\"))\n",
    "model.add(Dense(units = 10, activation = \"softmax\", name = \"dense_2\"))\n",
    "\n",
    "#------build---------\n",
    "model.build(input_shape = (None,28,28,1))\n",
    "model.summary()"
   ]
  },
  {
   "cell_type": "code",
   "execution_count": 22,
   "metadata": {},
   "outputs": [
    {
     "name": "stdout",
     "output_type": "stream",
     "text": [
      "\u001b[34mmodel.layers\u001b[0m \n",
      " [<tensorflow.python.keras.layers.convolutional.Conv2D object at 0x7faf2e80c940>, <tensorflow.python.keras.layers.pooling.MaxPooling2D object at 0x7faf2e8d4100>, <tensorflow.python.keras.layers.core.Activation object at 0x7faf2edeabe0>, <tensorflow.python.keras.layers.convolutional.Conv2D object at 0x7faf2e8e4190>, <tensorflow.python.keras.layers.pooling.MaxPooling2D object at 0x7faf2edff6a0>, <tensorflow.python.keras.layers.core.Activation object at 0x7faf2edfaa60>, <tensorflow.python.keras.layers.core.Flatten object at 0x7faf2edff700>, <tensorflow.python.keras.layers.core.Dense object at 0x7faf2ede3ac0>, <tensorflow.python.keras.layers.core.Dense object at 0x7faf2ede3370>] \n",
      "\n",
      "\u001b[34mlen(model.layers)\u001b[0m \n",
      " 9 \n",
      "\n"
     ]
    }
   ],
   "source": [
    "#print(colored(\"\",\"blue\"),\"\\n\",,\"\\n\")\n",
    "#List containing layer object of the model\n",
    "print(colored(\"model.layers\",\"blue\"),\"\\n\",model.layers,\"\\n\")\n",
    "print(colored(\"len(model.layers)\",\"blue\"),\"\\n\",len(model.layers),\"\\n\")"
   ]
  },
  {
   "cell_type": "code",
   "execution_count": 38,
   "metadata": {},
   "outputs": [
    {
     "name": "stdout",
     "output_type": "stream",
     "text": [
      "{\n",
      "   \"name\": \"conv_1\",\n",
      "   \"trainable\": true,\n",
      "   \"dtype\": \"float32\",\n",
      "   \"filters\": 10,\n",
      "   \"kernel_size\": [\n",
      "      3,\n",
      "      3\n",
      "   ],\n",
      "   \"strides\": [\n",
      "      1,\n",
      "      1\n",
      "   ],\n",
      "   \"padding\": \"valid\",\n",
      "   \"data_format\": \"channels_last\",\n",
      "   \"dilation_rate\": [\n",
      "      1,\n",
      "      1\n",
      "   ],\n",
      "   \"groups\": 1,\n",
      "   \"activation\": \"linear\",\n",
      "   \"use_bias\": true,\n",
      "   \"kernel_initializer\": {\n",
      "      \"class_name\": \"GlorotUniform\",\n",
      "      \"config\": {\n",
      "         \"seed\": null\n",
      "      }\n",
      "   },\n",
      "   \"bias_initializer\": {\n",
      "      \"class_name\": \"Zeros\",\n",
      "      \"config\": {}\n",
      "   },\n",
      "   \"kernel_regularizer\": null,\n",
      "   \"bias_regularizer\": null,\n",
      "   \"activity_regularizer\": null,\n",
      "   \"kernel_constraint\": null,\n",
      "   \"bias_constraint\": null\n",
      "}\n"
     ]
    }
   ],
   "source": [
    "#get_config, get_weights\n",
    "first_layer = model.layers[0]\n",
    "first_layer_config = first_layer.get_config()\n",
    "\n",
    "#use json to printy nested dic\n",
    "print(json.dumps(first_layer_config, indent = 3))"
   ]
  },
  {
   "cell_type": "code",
   "execution_count": 47,
   "metadata": {},
   "outputs": [
    {
     "name": "stdout",
     "output_type": "stream",
     "text": [
      "\u001b[34mLayer Name:\u001b[0m conv_1\n",
      "Num Filter: 10\n",
      "Kernel Size: (3, 3)\n",
      "Padding: valid\n",
      "\n",
      "\u001b[34mLayer Name:\u001b[0m conv_2\n",
      "Num Filter: 10\n",
      "Kernel Size: (3, 3)\n",
      "Padding: valid\n",
      "\n"
     ]
    }
   ],
   "source": [
    "for layer in model.layers:\n",
    "    layer_config = layer.get_config()\n",
    "    layer_name = layer_config[\"name\"]\n",
    "    if layer_name.startswith(\"conv\") and len(layer_name.split(\"_\")) <= 2:\n",
    "        print(colored(\"Layer Name:\",\"blue\"),layer_name)\n",
    "        print(\"Num Filter:\", layer_config[\"filters\"])\n",
    "        print(\"Kernel Size:\", layer_config[\"kernel_size\"])\n",
    "        print(\"Padding:\", layer_config[\"padding\"])\n",
    "        print()\n"
   ]
  },
  {
   "cell_type": "code",
   "execution_count": 61,
   "metadata": {},
   "outputs": [
    {
     "name": "stdout",
     "output_type": "stream",
     "text": [
      "\u001b[34mtype(final_layer.get_weights())\u001b[0m \n",
      " <class 'list'> \n",
      "\n",
      "\u001b[34mtype(final_layer.get_weights()[0])\u001b[0m \n",
      " <class 'numpy.ndarray'> \n",
      "\n",
      "\u001b[34mfinal_layer.get_weights()[0]).shape\u001b[0m \n",
      " (32, 10) \n",
      "\n",
      "\u001b[34mtype(final_layer.get_weights()[1])\u001b[0m \n",
      " <class 'numpy.ndarray'> \n",
      "\n",
      "\u001b[34mfinal_layer.get_weights()[1]).shape\u001b[0m \n",
      " (10,) \n",
      "\n"
     ]
    },
    {
     "data": {
      "text/plain": [
       "array([0., 0., 0., 0., 0., 0., 0., 0., 0., 0.], dtype=float32)"
      ]
     },
     "metadata": {},
     "output_type": "display_data"
    }
   ],
   "source": [
    "final_layer = model.layers[-1]\n",
    "print(colored(\"type(final_layer.get_weights())\",\"blue\"),\"\\n\",type(final_layer.get_weights()),\"\\n\")\n",
    "\n",
    "#weights\n",
    "print(colored(\"type(final_layer.get_weights()[0])\",\"blue\"),\"\\n\",type(final_layer.get_weights()[0]),\"\\n\")\n",
    "print(colored(\"final_layer.get_weights()[0]).shape\",\"blue\"),\"\\n\",final_layer.get_weights()[0].shape,\"\\n\")\n",
    "\n",
    "#bias\n",
    "print(colored(\"type(final_layer.get_weights()[1])\",\"blue\"),\"\\n\",type(final_layer.get_weights()[1]),\"\\n\")\n",
    "print(colored(\"final_layer.get_weights()[1]).shape\",\"blue\"),\"\\n\",final_layer.get_weights()[1].shape,\"\\n\")\n",
    "\n",
    "#bais is initialized with zeros\n",
    "display(final_layer.get_weights()[1])"
   ]
  },
  {
   "cell_type": "code",
   "execution_count": null,
   "metadata": {},
   "outputs": [],
   "source": []
  },
  {
   "cell_type": "code",
   "execution_count": null,
   "metadata": {},
   "outputs": [],
   "source": []
  },
  {
   "cell_type": "code",
   "execution_count": null,
   "metadata": {},
   "outputs": [],
   "source": []
  },
  {
   "cell_type": "code",
   "execution_count": null,
   "metadata": {},
   "outputs": [],
   "source": []
  },
  {
   "cell_type": "code",
   "execution_count": null,
   "metadata": {},
   "outputs": [],
   "source": []
  },
  {
   "cell_type": "code",
   "execution_count": null,
   "metadata": {},
   "outputs": [],
   "source": []
  },
  {
   "cell_type": "code",
   "execution_count": null,
   "metadata": {},
   "outputs": [],
   "source": []
  },
  {
   "cell_type": "code",
   "execution_count": null,
   "metadata": {},
   "outputs": [],
   "source": []
  },
  {
   "cell_type": "code",
   "execution_count": null,
   "metadata": {},
   "outputs": [],
   "source": []
  },
  {
   "cell_type": "code",
   "execution_count": null,
   "metadata": {},
   "outputs": [],
   "source": []
  },
  {
   "cell_type": "code",
   "execution_count": null,
   "metadata": {},
   "outputs": [],
   "source": []
  },
  {
   "cell_type": "code",
   "execution_count": null,
   "metadata": {},
   "outputs": [],
   "source": []
  },
  {
   "cell_type": "code",
   "execution_count": null,
   "metadata": {},
   "outputs": [],
   "source": []
  },
  {
   "cell_type": "code",
   "execution_count": null,
   "metadata": {},
   "outputs": [],
   "source": []
  }
 ],
 "metadata": {
  "kernelspec": {
   "display_name": "Python 3",
   "language": "python",
   "name": "python3"
  },
  "language_info": {
   "codemirror_mode": {
    "name": "ipython",
    "version": 3
   },
   "file_extension": ".py",
   "mimetype": "text/x-python",
   "name": "python",
   "nbconvert_exporter": "python",
   "pygments_lexer": "ipython3",
   "version": "3.8.5"
  }
 },
 "nbformat": 4,
 "nbformat_minor": 4
}
