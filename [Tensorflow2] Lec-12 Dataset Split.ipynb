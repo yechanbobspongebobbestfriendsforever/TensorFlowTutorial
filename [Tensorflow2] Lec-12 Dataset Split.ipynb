{
 "cells": [
  {
   "cell_type": "code",
   "execution_count": 1,
   "metadata": {},
   "outputs": [],
   "source": [
    "import tensorflow as tf\n",
    "import tensorflow_datasets as tfds\n",
    "import numpy as np\n",
    "import matplotlib.pyplot as plt"
   ]
  },
  {
   "cell_type": "markdown",
   "metadata": {},
   "source": [
    "## How to creat train & validation data set"
   ]
  },
  {
   "cell_type": "code",
   "execution_count": 28,
   "metadata": {},
   "outputs": [],
   "source": [
    "entire_ds_x = np.arange(10).reshape(-1,1)\n",
    "entire_ds_y = 3*entire_ds_x+1\n",
    "\n",
    "train_validation_ds = tf.data.Dataset.from_tensor_slices((entire_ds_x,entire_ds_y))\n",
    "\n",
    "n_train_validation = len(train_validation_ds)\n",
    "train_ratio = 0.8\n",
    "#get num of training example\n",
    "n_train = int(n_train_validation*train_ratio)\n",
    "n_validation = n_train_validation - n_train\n",
    "\n",
    "#training ds take first n_train examples\n",
    "train_ds = train_validation_df.take(n_train)\n",
    "\n",
    "#skip the first n_train example\n",
    "remaining_ds = train_validation_df.skip(n_train)\n",
    "\n",
    "#take n_validation example \n",
    "valid_ds = remaining_ds.take(n_validation)\n"
   ]
  },
  {
   "cell_type": "code",
   "execution_count": 33,
   "metadata": {},
   "outputs": [
    {
     "name": "stdout",
     "output_type": "stream",
     "text": [
      "0\n",
      "tf.Tensor([0], shape=(1,), dtype=int64) \n",
      " tf.Tensor([1], shape=(1,), dtype=int64) \n",
      "\n",
      "1\n",
      "tf.Tensor([1], shape=(1,), dtype=int64) \n",
      " tf.Tensor([4], shape=(1,), dtype=int64) \n",
      "\n",
      "2\n",
      "tf.Tensor([2], shape=(1,), dtype=int64) \n",
      " tf.Tensor([7], shape=(1,), dtype=int64) \n",
      "\n",
      "3\n",
      "tf.Tensor([3], shape=(1,), dtype=int64) \n",
      " tf.Tensor([10], shape=(1,), dtype=int64) \n",
      "\n",
      "4\n",
      "tf.Tensor([4], shape=(1,), dtype=int64) \n",
      " tf.Tensor([13], shape=(1,), dtype=int64) \n",
      "\n",
      "5\n",
      "tf.Tensor([5], shape=(1,), dtype=int64) \n",
      " tf.Tensor([16], shape=(1,), dtype=int64) \n",
      "\n",
      "6\n",
      "tf.Tensor([6], shape=(1,), dtype=int64) \n",
      " tf.Tensor([19], shape=(1,), dtype=int64) \n",
      "\n",
      "7\n",
      "tf.Tensor([7], shape=(1,), dtype=int64) \n",
      " tf.Tensor([22], shape=(1,), dtype=int64) \n",
      "\n"
     ]
    }
   ],
   "source": [
    "for i,(x,y) in enumerate(train_ds):\n",
    "    print(i)\n",
    "    print(x,\"\\n\",y,\"\\n\")"
   ]
  },
  {
   "cell_type": "code",
   "execution_count": 32,
   "metadata": {},
   "outputs": [
    {
     "name": "stdout",
     "output_type": "stream",
     "text": [
      "0\n",
      "tf.Tensor([8], shape=(1,), dtype=int64) \n",
      " tf.Tensor([25], shape=(1,), dtype=int64) \n",
      "\n",
      "1\n",
      "tf.Tensor([9], shape=(1,), dtype=int64) \n",
      " tf.Tensor([28], shape=(1,), dtype=int64) \n",
      "\n"
     ]
    }
   ],
   "source": [
    "for i,(x,y) in enumerate(valid_ds):\n",
    "    print(i)\n",
    "    print(x,\"\\n\",y,\"\\n\")"
   ]
  },
  {
   "cell_type": "markdown",
   "metadata": {},
   "source": [
    "## Practice using MNIST"
   ]
  },
  {
   "cell_type": "code",
   "execution_count": 51,
   "metadata": {},
   "outputs": [],
   "source": [
    "#ds_info is needed to get the shape of the entire dataset\n",
    "# as_supervised: return X,y in tuple form \n",
    "\n",
    "(train_validation_ds,test_ds),ds_info = tfds.load(name = \"mnist\", \n",
    "                                                  shuffle_files = True, \n",
    "                                                  as_supervised = True, \n",
    "                                                  split = [\"train\", \"test\"], \n",
    "                                                  with_info = True)"
   ]
  },
  {
   "cell_type": "code",
   "execution_count": 52,
   "metadata": {},
   "outputs": [],
   "source": [
    "n_train_validation =  ds_info.splits[\"train\"].num_examples #60000\n",
    "train_ratio = 0.8\n",
    "n_train = int(n_train_validation*train_ratio)\n",
    "n_validation = n_train_validation - n_train\n",
    "\n",
    "train_ds = train_validation_ds.take(n_train)\n",
    "validation_ds = train_validation_ds.skip(n_train).take(n_validation)\n",
    "\n",
    "train_ds = train_ds.shuffle(100).batch(32)\n",
    "validation_ds = validation_ds.batch(32)\n",
    "test_ds = test_ds"
   ]
  },
  {
   "cell_type": "code",
   "execution_count": 53,
   "metadata": {},
   "outputs": [
    {
     "name": "stdout",
     "output_type": "stream",
     "text": [
      "1500\n",
      "375\n",
      "10000\n"
     ]
    }
   ],
   "source": [
    "print(len(train_ds)) #1500*32\n",
    "print(len(validation_ds)) #375*32\n",
    "print(len(test_ds))"
   ]
  },
  {
   "cell_type": "code",
   "execution_count": null,
   "metadata": {},
   "outputs": [],
   "source": []
  },
  {
   "cell_type": "code",
   "execution_count": null,
   "metadata": {},
   "outputs": [],
   "source": []
  },
  {
   "cell_type": "code",
   "execution_count": null,
   "metadata": {},
   "outputs": [],
   "source": []
  },
  {
   "cell_type": "code",
   "execution_count": null,
   "metadata": {},
   "outputs": [],
   "source": []
  },
  {
   "cell_type": "code",
   "execution_count": null,
   "metadata": {},
   "outputs": [],
   "source": []
  },
  {
   "cell_type": "code",
   "execution_count": null,
   "metadata": {},
   "outputs": [],
   "source": []
  },
  {
   "cell_type": "code",
   "execution_count": null,
   "metadata": {},
   "outputs": [],
   "source": []
  },
  {
   "cell_type": "code",
   "execution_count": null,
   "metadata": {},
   "outputs": [],
   "source": []
  },
  {
   "cell_type": "code",
   "execution_count": null,
   "metadata": {},
   "outputs": [],
   "source": []
  },
  {
   "cell_type": "code",
   "execution_count": null,
   "metadata": {},
   "outputs": [],
   "source": []
  },
  {
   "cell_type": "code",
   "execution_count": null,
   "metadata": {},
   "outputs": [],
   "source": []
  },
  {
   "cell_type": "code",
   "execution_count": null,
   "metadata": {},
   "outputs": [],
   "source": []
  }
 ],
 "metadata": {
  "kernelspec": {
   "display_name": "Python 3",
   "language": "python",
   "name": "python3"
  },
  "language_info": {
   "codemirror_mode": {
    "name": "ipython",
    "version": 3
   },
   "file_extension": ".py",
   "mimetype": "text/x-python",
   "name": "python",
   "nbconvert_exporter": "python",
   "pygments_lexer": "ipython3",
   "version": "3.8.5"
  }
 },
 "nbformat": 4,
 "nbformat_minor": 4
}
