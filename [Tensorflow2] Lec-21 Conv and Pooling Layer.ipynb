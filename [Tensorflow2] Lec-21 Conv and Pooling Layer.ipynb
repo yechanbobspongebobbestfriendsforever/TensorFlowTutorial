{
 "cells": [
  {
   "cell_type": "code",
   "execution_count": 21,
   "metadata": {},
   "outputs": [
    {
     "name": "stdout",
     "output_type": "stream",
     "text": [
      "image.shape: (1, 28, 28, 1)\n",
      "conved.shape: (1, 26, 26, 8)\n",
      "conv weight shape: (3, 3, 1, 8)\n",
      "conv bias shape: (8,)\n",
      "pooled.shape: (1, 13, 13, 8)\n"
     ]
    }
   ],
   "source": [
    "import tensorflow as tf\n",
    "from tensorflow.keras.layers import Conv2D, MaxPooling2D\n",
    "import matplotlib.pyplot as plt\n",
    "\n",
    "conv = Conv2D(filters = 8, kernel_size = 3, padding = \"valid\", activation= \"relu\")\n",
    "pool = MaxPooling2D(pool_size = 2, strides = 2) # no overlapping\n",
    "\n",
    "image = tf.random.normal(mean = 0, stddev=1, shape = (1,28, 28,1)) #(batch_size, height, width, channel)\n",
    "print(\"image.shape:\",image.shape)\n",
    "\n",
    "conved = conv(image)\n",
    "print(\"conved.shape:\", conved.shape)\n",
    "print(\"conv weight shape:\", conv.get_weights()[0].shape)\n",
    "print(\"conv bias shape:\", conv.get_weights()[1].shape)\n",
    "\n",
    "pooled = pool(conved)\n",
    "print(\"pooled.shape:\",pooled.shape)"
   ]
  },
  {
   "cell_type": "code",
   "execution_count": null,
   "metadata": {},
   "outputs": [],
   "source": []
  },
  {
   "cell_type": "code",
   "execution_count": null,
   "metadata": {},
   "outputs": [],
   "source": []
  },
  {
   "cell_type": "code",
   "execution_count": null,
   "metadata": {},
   "outputs": [],
   "source": []
  }
 ],
 "metadata": {
  "kernelspec": {
   "display_name": "Python 3",
   "language": "python",
   "name": "python3"
  },
  "language_info": {
   "codemirror_mode": {
    "name": "ipython",
    "version": 3
   },
   "file_extension": ".py",
   "mimetype": "text/x-python",
   "name": "python",
   "nbconvert_exporter": "python",
   "pygments_lexer": "ipython3",
   "version": "3.8.5"
  }
 },
 "nbformat": 4,
 "nbformat_minor": 4
}
